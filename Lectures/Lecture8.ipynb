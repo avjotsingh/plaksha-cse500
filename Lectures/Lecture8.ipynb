{
 "cells": [
  {
   "cell_type": "markdown",
   "metadata": {
    "slideshow": {
     "slide_type": "slide"
    }
   },
   "source": [
    "# Introduction to Computation and Python Programming\n",
    "\n",
    "## Lecture 8"
   ]
  },
  {
   "cell_type": "markdown",
   "metadata": {
    "slideshow": {
     "slide_type": "slide"
    }
   },
   "source": [
    "### Today\n",
    "----------\n",
    "\n",
    "- Sorting and Searching"
   ]
  },
  {
   "cell_type": "markdown",
   "metadata": {
    "slideshow": {
     "slide_type": "slide"
    }
   },
   "source": [
    "### Search Algorithms\n",
    "\n",
    "- A **search algorithm** is a method for finding an item or group of items with specific properties within a collection of items\n",
    "- The collection is referrred to as the **search space**\n",
    "- The collecction could be implicit:\n",
    "    - example - find square root as a search problem\n",
    "        - exhaustive search\n",
    "        - bisection search\n",
    "        - Newton-Raphson\n",
    "- The collection could be explicit:\n",
    "    - example - is a student record in a stored collection of data"
   ]
  },
  {
   "cell_type": "markdown",
   "metadata": {
    "slideshow": {
     "slide_type": "slide"
    }
   },
   "source": [
    "### Let us look at two algorithms\n",
    "\n",
    "- Each meets the specification\n",
    "```python\n",
    "def search(L, e):\n",
    "    \"\"\"Assumes L is a list.\n",
    "       Returns True if e is in L and False otherwise\"\"\"\n",
    "```\n",
    "\n",
    "- **linear search**\n",
    "    - brute force search (aka British Museum algorithm)\n",
    "    - list does not need to be sorted\n",
    "- **bisection search**\n",
    "    - list MUST be sorted to give correct answer\n",
    "    - will look at two different implementations of the algorithm"
   ]
  },
  {
   "cell_type": "markdown",
   "metadata": {
    "slideshow": {
     "slide_type": "slide"
    }
   },
   "source": [
    "### Linear Search on Unsorted List\n",
    "\n",
    "```python\n",
    "def search(L, e):\n",
    "    for i in range (len(L)):\n",
    "        if L[i] == e:\n",
    "            return True\n",
    "    return False\n",
    "```\n",
    "\n",
    "- worst case must look through all elements to decide\n",
    "- $O(len(L))$ for the loop and $O(1)$ to test if `L[i] == e`\n",
    "- overall complexity is $O(n)$ where $n$ is $len(L)$"
   ]
  },
  {
   "cell_type": "markdown",
   "metadata": {
    "slideshow": {
     "slide_type": "slide"
    }
   },
   "source": [
    "### Linear Search on Sorted List\n",
    "\n",
    "```python\n",
    "def search(L, e):\n",
    "    for i in range(len(L)):\n",
    "        if L[i] == e:\n",
    "            return True\n",
    "        if L[i] > e:\n",
    "            return False\n",
    "    return False\n",
    "```\n",
    "\n",
    "- must look until reaching a number greater than `e`\n",
    "- overall complexity is still $O(n)$\n",
    "- average running time is, however, better"
   ]
  },
  {
   "cell_type": "markdown",
   "metadata": {
    "slideshow": {
     "slide_type": "slide"
    }
   },
   "source": [
    "### Using Bisection Search\n",
    "\n",
    "- The algorithm:\n",
    "1. Pick an index, `i`, that divides the list `L` roughly in half\n",
    "2. Ask if `L[i] == e`\n",
    "3. If not, ask whether `L[i]` is larger or smaller than `e`\n",
    "4. Depending upon the answer, search either the left or right half of `L` for `e`\n",
    "<br><br>\n",
    "- A new version of a divide-and-conquer algorithm:\n",
    "    - Break into smaller version of problem (smaller list), plus some simple operations\n",
    "    - Answer to smaller version is answer to original problem"
   ]
  },
  {
   "cell_type": "markdown",
   "metadata": {
    "slideshow": {
     "slide_type": "slide"
    }
   },
   "source": [
    "### Bisection Search implementation\n",
    "\n",
    "```python\n",
    "def search(L, e):\n",
    "    \"\"\"Assumes L is a list, the elements of which are in\n",
    "          ascending order.\n",
    "       Returns True if e is in L and False otherwise\"\"\"\n",
    "    \n",
    "    def bSearch(L, e, low, high):\n",
    "        #Decrements high - low\n",
    "        if high == low:\n",
    "            return L[low] == e\n",
    "        mid = (low + high)//2\n",
    "        if L[mid] == e:\n",
    "            return True\n",
    "        elif L[mid] > e:\n",
    "            if low == mid: #nothing left to search\n",
    "                return False\n",
    "            else:\n",
    "                return bSearch(L, e, low, mid - 1)\n",
    "        else:\n",
    "            return bSearch(L, e, mid + 1, high)\n",
    "        \n",
    "    if len(L) == 0:\n",
    "        return False\n",
    "    else:\n",
    "        return bSearch(L, e, 0, len(L) - 1)\n",
    "```\n",
    "\n",
    "- Functions like `search` above are called **wrapper functions**\n",
    "    - provide a nice interface for the client but is essentially pass-through that does no serious computation\n",
    "    - helper function `bSearch` does the work\n",
    "    - why not call `bSearch` directly?\n",
    "        - because parameters `low` and `high` have nothing to do with the abstraction of searching a list for an element\n",
    "        - implementation details should be hidden\n",
    "\n",
    "---\n",
    "\n",
    "##### Complexity of Bisection Search\n",
    "\n",
    "- $O(log\\ n)$ bisection search calls\n",
    "- reduce size of problem by a factor of 2 on each step\n",
    "- pass list and indices as parameters\n",
    "- list never copied, just re-passed as pointer\n",
    "- constant work inside function\n",
    "- $=> O(log\\ n)$\n",
    "        "
   ]
  },
  {
   "cell_type": "markdown",
   "metadata": {
    "slideshow": {
     "slide_type": "slide"
    }
   },
   "source": [
    "### Searching a Sorted List\n",
    "\n",
    "- using **linear search**, search for an element is $O(n)$\n",
    "- using **binary search**, can search for an element in $O(log\\ n)$\n",
    "    - assumes the **list is sorted**\n",
    "- when does it make sense to **sort first then search**?\n",
    "    - $SORT + O(log\\ n) < O(n) => SORT < O(n) - O(log\\ n)$\n",
    "    - So, Sorting needs to be less than $O(n)$\n",
    "- **NEVER TRUE!**\n",
    "    - to sort a collection of $n$ elements, must look at each at least once\n",
    "\n",
    "---\n",
    "\n",
    "#### Amortized Cost\n",
    "\n",
    "- why bother sorting first?\n",
    "- in some cases, may **sort a list once**, then do **many searches**\n",
    "- **AMORTIZE cost** of the sort over many searches\n",
    "- $SORT + K*O(log\\ n) < K*O(n)$\n",
    "    - for large $K$, **SORT time becomes irrelevant**, if cost of sorting is small enough"
   ]
  },
  {
   "cell_type": "markdown",
   "metadata": {
    "slideshow": {
     "slide_type": "slide"
    }
   },
   "source": [
    "### Sorting \n",
    "\n",
    "- Standard Python implementation of Sorting runs in roughly $O(n*log(n))$ time, where $n$ is the length of the list\n",
    "- In practice you will rarely need to implement your own `sort` function\n",
    "- Python's built-in `sort` method: `L.sort()` sorts the list `L`\n",
    "- built-in function `sorted(L)` returns a list with the same elements as L, sorted but **does not mutate** `L`"
   ]
  },
  {
   "cell_type": "markdown",
   "metadata": {
    "slideshow": {
     "slide_type": "slide"
    }
   },
   "source": [
    "### Selection Sort\n",
    "\n",
    "```python\n",
    "def selSort(L):\n",
    "    \"\"\"Assumes that L is a list of elements that can be\n",
    "         compared using >.\n",
    "       Sorts L in ascending order\"\"\"\n",
    "    suffixStart = 0\n",
    "    while suffixStart != len(L):\n",
    "        #look at each element in suffix\n",
    "        for i in range(suffixStart, len(L)):\n",
    "            if L[i] < L[suffixStart]:\n",
    "                #swap position of elements\n",
    "                L[suffixStart], L[i] = L[i], L[suffixStart]\n",
    "        suffixStart += 1\n",
    "```\n",
    "- works by maintaining the **loop invariant**:\n",
    "    - given a partitioning of the list into a **prefix** `L[0:i]` and a **suffix** `L[i+1:len(L)]`:\n",
    "        - prefix is sorted\n",
    "        - no element in the prefix is larger tha the smallest element in the suffix\n",
    "- Each step of the algorithm - moves one element from the suffix to the prefix\n",
    "    - append the minimum element from the suffix to the end of the prefix\n",
    "    - By induction we know that if **loop invariant** was true before, it is true after the move\n",
    "- Complexity:\n",
    "    - Inner Loop: $O(len(L))$\n",
    "    - Outer Loop: $O(len(L)$\n",
    "    - Complexity of entire function is $O(len(L)^2)$"
   ]
  },
  {
   "cell_type": "markdown",
   "metadata": {
    "slideshow": {
     "slide_type": "slide"
    }
   },
   "source": [
    "### Merge Sort\n",
    "\n",
    "- Can do much better than quadratic time using a **divide-and-conquer algorithm**\n",
    "- In general, for a divide-and-conquer algorithm:\n",
    "    - A threshold input size, below which the problem is not subdivided, (this is called the **recursive base**)\n",
    "    - The size and number of sub-instances into which an instance is split, and (in most examples we have seen, the ratio was **2**)\n",
    "    - The algorithm used to combine sub-solutions.\n",
    "\n",
    "---\n",
    "\n",
    "#### Merge Sort invented in 1945 by John von Neumann\n",
    "1. If the list of of length 0 or 1, it is already sorted\n",
    "2. If the list has more than one element, split the list into two lists, and use merge sort to sort each of them.\n",
    "3. Merge the results\n",
    "\n",
    "- Neumann's observation is that two sorted lists can be efficiently merged into a single sorted list\n",
    "- example mergeing `[1,5,12,18,19,20]` and `[2,3,4,17]`\n",
    "<br>\n",
    "\n",
    "\n",
    "|Remaining in list 1|Remaining in list 2|Result|\n",
    "|:----|:----|:----|\n",
    "|`[1,5,12,18,19,20]`|`[2,3,4,17]`|`[]`|\n",
    "|`[5,12,18,19,20]`|`[2,3,4,17]`|`[1]`|\n",
    "|`[5,12,18,19,20]`|`[3,4,17]`|`[1,2]`|\n",
    "|`[5,12,18,19,20]`|`[4,17]`|`[1,2,3]`|\n",
    "|`[5,12,18,19,20]`|`[17]`|`[1,2,3,4]`|\n",
    "|`[12,18,19,20]`|`[17]`|`[1,2,3,4,5]`|\n",
    "|`[18,19,20]`|`[17]`|`[1,2,3,4,5,12]`|\n",
    "|`[18,19,20]`|`[]`|`[1,2,3,4,5,12,17]`|\n",
    "|`[]`|`[]`|`[1,2,3,4,5,12,17,18,19,20]`|\n",
    "\n"
   ]
  },
  {
   "cell_type": "markdown",
   "metadata": {
    "slideshow": {
     "slide_type": "slide"
    }
   },
   "source": [
    "### Complexity Analysis of Mergesort\n",
    "\n",
    "#### Complexity of the merge process\n",
    "- Two constant time operations: **comparing** the values of elements and **copying** elements from one list to another\n",
    "- Number of comparisons is $O(len(L)$ where `L` is the longer of the two lists\n",
    "- Number of copy operations is $O(len(L1) + len(L2))$ - each element gets copied exactly once\n",
    "- Therefore, merging two sorted lists is linear ($O(n)$) in the length of the lists\n",
    "<br><br>\n",
    "- See Code\n",
    "<br><br>\n",
    "### Complexity of mergeSort\n",
    "- Complexity of `merge` is $O(len(L))$\n",
    "- At each level of recursion the total number of elements merged is `len(L)`\n",
    "- Therefore, time complexity of `mergeSort` is $O(len(L))$ multiplied by the number of levels of recursion\n",
    "- Since we divide in half each time, number of levels of recursion is $O(log(len(L)))$\n",
    "- Therefore, time complexity of `mergeSort` is $O(n*log(n))$, where $n$ is $len(L)$\n",
    "- Comparison with selection sort - if L has 10,000 elements:\n",
    "    - $len(L)^2$ is 100 million\n",
    "    - $len(L)*log_{2}(len(L))$ is 130,000\n",
    "- There is a price:\n",
    "    - Selection sort is an **in-place** sorting algorithm. Swapping requires constant amount of extra storage (one element)\n",
    "    - In comparison, Merge Sort involves making copies of the list. Space complexity is $O(len(L))$"
   ]
  },
  {
   "cell_type": "markdown",
   "metadata": {
    "slideshow": {
     "slide_type": "slide"
    }
   },
   "source": [
    "### Sorting in Python\n",
    "\n",
    "- see code"
   ]
  },
  {
   "cell_type": "markdown",
   "metadata": {
    "slideshow": {
     "slide_type": "slide"
    }
   },
   "source": [
    "### Hash Tables\n",
    "\n",
    "- Merge sort + binary search seems like a good combination for amortized searches on a list\n",
    "- if we search the list $k$ times, overall complexity is $O(n*log(n)\\ + \\ k*log(n))$\n",
    "- Can we do better if we are willing to do some pre-processing?\n",
    "<br><br>\n",
    "#### Hashing\n",
    "- Dictionaries in Python use a technique called hashing - converting the key to an integer and then using that integer to index into a list\n",
    "- Values of any type can be converted to an integer e.g. internal representational sequence of bits ```'abc'``` is ```011000010110001001100011``` or the decimal integer ```6,382,179```.\n",
    "- Think of how big the list needs to be\n",
    "- **Hash function**: maps a large space of inputs (e.g. all natural numbers) to a smaller space of outputs (e.g. the natural numbers between 0 and 5000). Hash functions can be used to convert a large space of keys to a smaller space of integer indices\n",
    "- Hash function is a **many-to-one mapping**. When two inputs are mapped to the same output it is called a **collision**\n",
    "- Good hash function produces **uniform distribution** - every output is equally probable minimizing chance of collision"
   ]
  }
 ],
 "metadata": {
  "celltoolbar": "Slideshow",
  "kernelspec": {
   "display_name": "Python 3",
   "language": "python",
   "name": "python3"
  },
  "language_info": {
   "codemirror_mode": {
    "name": "ipython",
    "version": 3
   },
   "file_extension": ".py",
   "mimetype": "text/x-python",
   "name": "python",
   "nbconvert_exporter": "python",
   "pygments_lexer": "ipython3",
   "version": "3.8.2"
  }
 },
 "nbformat": 4,
 "nbformat_minor": 2
}
