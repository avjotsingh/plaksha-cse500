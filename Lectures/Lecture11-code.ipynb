{
 "cells": [
  {
   "cell_type": "markdown",
   "metadata": {},
   "source": [
    "### Knapsack problem"
   ]
  },
  {
   "cell_type": "code",
   "execution_count": 3,
   "metadata": {},
   "outputs": [],
   "source": [
    "class Item(object):\n",
    "    def __init__(self, n, v, w):\n",
    "        self.name = n\n",
    "        self.value = v\n",
    "        self.weight = w\n",
    "    def getName(self):\n",
    "        return self.name\n",
    "    def getValue(self):\n",
    "        return self.value\n",
    "    def getWeight(self):\n",
    "        return self.weight\n",
    "    def __str__(self):\n",
    "        result = '<' + self.name + ', ' + str(self.value)\\\n",
    "                 + ', ' + str(self.weight) + '>'\n",
    "        return result\n",
    "def value(item):\n",
    "    return item.getValue()\n",
    "\n",
    "def weightInverse(item):\n",
    "    return 1.0/item.getWeight()\n",
    "\n",
    "def density(item):\n",
    "    return item.getValue()/item.getWeight()"
   ]
  },
  {
   "cell_type": "code",
   "execution_count": 4,
   "metadata": {},
   "outputs": [],
   "source": [
    "def greedy(items, maxWeight, keyFunction):\n",
    "    \"\"\"Assumes Items a list, maxWeight >= 0,\n",
    "       keyFunction maps elements of Items to numbers\"\"\"\n",
    "    itemsCopy = sorted(items, key=keyFunction, reverse = True)\n",
    "    result = []\n",
    "    totalValue, totalWeight = 0.0, 0.0\n",
    "    for i in range(len(itemsCopy)):\n",
    "        if (totalWeight + itemsCopy[i].getWeight()) <= maxWeight:\n",
    "            result.append(itemsCopy[i])\n",
    "            totalWeight += itemsCopy[i].getWeight()\n",
    "            totalValue += itemsCopy[i].getValue()\n",
    "    return (result, totalValue)"
   ]
  },
  {
   "cell_type": "code",
   "execution_count": 5,
   "metadata": {},
   "outputs": [],
   "source": [
    "def buildItems():\n",
    "    names = ['clock','painting','radio','vase','book','computer']\n",
    "    values = [175,90,20,50,10,200]\n",
    "    weights = [10,9,4,2,1,20]\n",
    "    Items = []\n",
    "    for i in range(len(values)):\n",
    "        Items.append(Item(names[i], values[i], weights[i]))\n",
    "    return Items\n",
    "\n",
    "def testGreedy(items, maxWeight, keyFunction):\n",
    "    taken, val = greedy(items, maxWeight, keyFunction)\n",
    "    print('Total value of items taken is', val)\n",
    "    for item in taken:\n",
    "        print('   ', item)\n",
    "\n",
    "def testGreedys(maxWeight = 20):\n",
    "    items = buildItems()\n",
    "    print('Use greedy by value to fill knapsack of size', maxWeight)\n",
    "    testGreedy(items, maxWeight, value)\n",
    "    print('\\nUse greedy by weight to fill knapsack of size',\n",
    "          maxWeight)\n",
    "    testGreedy(items, maxWeight, weightInverse)\n",
    "    print('\\nUse greedy by density to fill knapsack of size',\n",
    "          maxWeight)\n",
    "    testGreedy(items, maxWeight, density)"
   ]
  },
  {
   "cell_type": "code",
   "execution_count": 6,
   "metadata": {},
   "outputs": [
    {
     "name": "stdout",
     "output_type": "stream",
     "text": [
      "Use greedy by value to fill knapsack of size 20\n",
      "Total value of items taken is 200.0\n",
      "    <computer, 200, 20>\n",
      "\n",
      "Use greedy by weight to fill knapsack of size 20\n",
      "Total value of items taken is 170.0\n",
      "    <book, 10, 1>\n",
      "    <vase, 50, 2>\n",
      "    <radio, 20, 4>\n",
      "    <painting, 90, 9>\n",
      "\n",
      "Use greedy by density to fill knapsack of size 20\n",
      "Total value of items taken is 255.0\n",
      "    <vase, 50, 2>\n",
      "    <clock, 175, 10>\n",
      "    <book, 10, 1>\n",
      "    <radio, 20, 4>\n"
     ]
    }
   ],
   "source": [
    "testGreedys()"
   ]
  },
  {
   "cell_type": "markdown",
   "metadata": {},
   "source": [
    "### Optimal solution to 0/1 Knapsack Problem"
   ]
  },
  {
   "cell_type": "code",
   "execution_count": 7,
   "metadata": {},
   "outputs": [],
   "source": [
    "def getBinaryRep(n, numDigits):\n",
    "   \"\"\"Assumes n and numDigits are non-negative ints\n",
    "      Returns a str of length numDigits that is a binary\n",
    "      representation of n\"\"\"\n",
    "   result = ''\n",
    "   while n > 0:\n",
    "      result = str(n%2) + result\n",
    "      n = n//2\n",
    "   if len(result) > numDigits:\n",
    "      raise ValueError('not enough digits')\n",
    "   for i in range(numDigits - len(result)):\n",
    "      result = '0' + result\n",
    "   return result\n",
    "\n",
    "def genPowerset(L):\n",
    "   \"\"\"Assumes L is a list\n",
    "      Returns a list of lists that contains all possible\n",
    "      combinations of the elements of L. E.g., if\n",
    "      L is [1, 2] it will return a list with elements\n",
    "      [], [1], [2], and [1,2].\"\"\"\n",
    "   powerset = []\n",
    "   for i in range(0, 2**len(L)):\n",
    "      binStr = getBinaryRep(i, len(L))\n",
    "      subset = []\n",
    "      for j in range(len(L)):\n",
    "         if binStr[j] == '1':\n",
    "            subset.append(L[j])\n",
    "      powerset.append(subset)\n",
    "   return powerset\n",
    "   \n"
   ]
  },
  {
   "cell_type": "code",
   "execution_count": 8,
   "metadata": {},
   "outputs": [
    {
     "data": {
      "text/plain": [
       "[[],\n",
       " [4],\n",
       " [3],\n",
       " [3, 4],\n",
       " [2],\n",
       " [2, 4],\n",
       " [2, 3],\n",
       " [2, 3, 4],\n",
       " [1],\n",
       " [1, 4],\n",
       " [1, 3],\n",
       " [1, 3, 4],\n",
       " [1, 2],\n",
       " [1, 2, 4],\n",
       " [1, 2, 3],\n",
       " [1, 2, 3, 4]]"
      ]
     },
     "execution_count": 8,
     "metadata": {},
     "output_type": "execute_result"
    }
   ],
   "source": [
    "genPowerset([1,2,3,4])"
   ]
  },
  {
   "cell_type": "code",
   "execution_count": 9,
   "metadata": {},
   "outputs": [],
   "source": [
    "def chooseBest(pset, maxWeight, getVal, getWeight):\n",
    "    bestVal = 0.0\n",
    "    bestSet = None\n",
    "    for items in pset:\n",
    "        itemsVal = 0.0\n",
    "        itemsWeight = 0.0\n",
    "        for item in items:\n",
    "            itemsVal += getVal(item)\n",
    "            itemsWeight += getWeight(item)\n",
    "        if itemsWeight <= maxWeight and itemsVal > bestVal:\n",
    "            bestVal = itemsVal\n",
    "            bestSet = items\n",
    "    return (bestSet, bestVal)\n",
    "\n",
    "def testBest(maxWeight = 20):\n",
    "    items = buildItems()\n",
    "    pset = genPowerset(items)\n",
    "    taken, val = chooseBest(pset, maxWeight, Item.getValue,\n",
    "                            Item.getWeight)\n",
    "    print('Total value of items taken is', val)\n",
    "    for item in taken:\n",
    "        print(item)"
   ]
  },
  {
   "cell_type": "code",
   "execution_count": 10,
   "metadata": {},
   "outputs": [
    {
     "name": "stdout",
     "output_type": "stream",
     "text": [
      "Total value of items taken is 275.0\n",
      "<clock, 175, 10>\n",
      "<painting, 90, 9>\n",
      "<book, 10, 1>\n"
     ]
    }
   ],
   "source": [
    "testBest()"
   ]
  },
  {
   "cell_type": "markdown",
   "metadata": {},
   "source": [
    "### Graphs"
   ]
  },
  {
   "cell_type": "code",
   "execution_count": 11,
   "metadata": {},
   "outputs": [],
   "source": [
    "class Node(object):\n",
    "    def __init__(self, name):\n",
    "        \"\"\"Assumes name is a string\"\"\"\n",
    "        self.name = name\n",
    "    def getName(self):\n",
    "        return self.name\n",
    "    def __str__(self):\n",
    "        return self.name\n",
    "\n",
    "class Edge(object):\n",
    "    def __init__(self, src, dest):\n",
    "        \"\"\"Assumes src and dest are nodes\"\"\"\n",
    "        self.src = src\n",
    "        self.dest = dest\n",
    "    def getSource(self):\n",
    "        return self.src\n",
    "    def getDestination(self):\n",
    "        return self.dest\n",
    "    def __str__(self):\n",
    "        return self.src.getName() + '->' + self.dest.getName()\n",
    "\n",
    "class WeightedEdge(Edge):\n",
    "    def __init__(self, src, dest, weight = 1.0):\n",
    "        \"\"\"Assumes src and dest are nodes, weight a number\"\"\"\n",
    "        self.src = src\n",
    "        self.dest = dest\n",
    "        self.weight = weight\n",
    "    def getWeight(self):\n",
    "        return self.weight\n",
    "    def __str__(self):\n",
    "        return self.src.getName() + '->(' + str(self.weight) + ')'\\\n",
    "               + self.dest.getName()"
   ]
  },
  {
   "cell_type": "code",
   "execution_count": 12,
   "metadata": {},
   "outputs": [],
   "source": [
    "class Digraph(object):\n",
    "    #nodes is a list of the nodes in the graph\n",
    "    #edges is a dict mapping each node to a list of its children\n",
    "    def __init__(self):\n",
    "        self.nodes = []\n",
    "        self.edges = {}\n",
    "    def addNode(self, node):\n",
    "        if node in self.nodes:\n",
    "            raise ValueError('Duplicate node')\n",
    "        else:\n",
    "            self.nodes.append(node)\n",
    "            self.edges[node] = []\n",
    "    def addEdge(self, edge):\n",
    "        src = edge.getSource()\n",
    "        dest = edge.getDestination()\n",
    "        if not (src in self.nodes and dest in self.nodes):\n",
    "            raise ValueError('Node not in graph')\n",
    "        self.edges[src].append(dest)\n",
    "    def childrenOf(self, node):\n",
    "        return self.edges[node]\n",
    "    def hasNode(self, node):\n",
    "        return node in self.nodes\n",
    "    def __str__(self):\n",
    "        result = ''\n",
    "        for src in self.nodes:\n",
    "            for dest in self.edges[src]:\n",
    "                result = result + src.getName() + '->'\\\n",
    "                         + dest.getName() + '\\n'\n",
    "        return result[:-1] #omit final newline\n",
    "\n",
    "class Graph(Digraph):\n",
    "    def addEdge(self, edge):\n",
    "        Digraph.addEdge(self, edge)\n",
    "        rev = Edge(edge.getDestination(), edge.getSource())\n",
    "        Digraph.addEdge(self, rev)"
   ]
  },
  {
   "cell_type": "markdown",
   "metadata": {},
   "source": [
    "#### Shortest Path"
   ]
  },
  {
   "cell_type": "code",
   "execution_count": 13,
   "metadata": {},
   "outputs": [],
   "source": [
    "def printPath(path):\n",
    "    \"\"\"Assumes path is a list of nodes\"\"\"\n",
    "    result = ''\n",
    "    for i in range(len(path)):\n",
    "        result = result + str(path[i])\n",
    "        if i != len(path) - 1:\n",
    "            result = result + '->'\n",
    "    return result \n",
    "\n",
    "def DFS(graph, start, end, path, shortest, toPrint = False):\n",
    "    \"\"\"Assumes graph is a Digraph; start and end are nodes;\n",
    "          path and shortest are lists of nodes\n",
    "       Returns a shortest path from start to end in graph\"\"\"\n",
    "    path = path + [start]\n",
    "    if toPrint:\n",
    "        print('Current DFS path:', printPath(path))\n",
    "    if start == end:\n",
    "        return path\n",
    "    for node in graph.childrenOf(start):\n",
    "        if node not in path: \n",
    "            if shortest == None or len(path) < len(shortest):\n",
    "                newPath = DFS(graph, node, end, path, shortest,\n",
    "                              toPrint)\n",
    "                if newPath != None:\n",
    "                    shortest = newPath\n",
    "    return shortest\n",
    "\n",
    "def shortestPath(graph, start, end, toPrint = False):\n",
    "    \"\"\"Assumes graph is a Digraph; start and end are nodes\n",
    "       Returns a shortest path from start to end in graph\"\"\"\n",
    "    return DFS(graph, start, end, [], None, toPrint)"
   ]
  },
  {
   "cell_type": "markdown",
   "metadata": {},
   "source": [
    "![image](diagrams/DFS.png)"
   ]
  },
  {
   "cell_type": "code",
   "execution_count": 14,
   "metadata": {},
   "outputs": [],
   "source": [
    "def testSP():\n",
    "    nodes = []\n",
    "    for name in range(6): #Create 6 nodes\n",
    "        nodes.append(Node(str(name)))\n",
    "    g = Digraph()\n",
    "    for n in nodes:\n",
    "        g.addNode(n)\n",
    "    g.addEdge(Edge(nodes[0],nodes[1]))\n",
    "    g.addEdge(Edge(nodes[1],nodes[2]))\n",
    "    g.addEdge(Edge(nodes[2],nodes[3]))\n",
    "    g.addEdge(Edge(nodes[2],nodes[4]))\n",
    "    g.addEdge(Edge(nodes[3],nodes[4]))\n",
    "    g.addEdge(Edge(nodes[3],nodes[5]))\n",
    "    g.addEdge(Edge(nodes[0],nodes[2]))\n",
    "    g.addEdge(Edge(nodes[1],nodes[0]))\n",
    "    g.addEdge(Edge(nodes[3],nodes[1]))\n",
    "    g.addEdge(Edge(nodes[4],nodes[0]))\n",
    "    sp = shortestPath(g, nodes[0], nodes[5], toPrint = True)\n",
    "    print('Shortest path found by DFS:', printPath(sp))"
   ]
  },
  {
   "cell_type": "code",
   "execution_count": 15,
   "metadata": {},
   "outputs": [
    {
     "name": "stdout",
     "output_type": "stream",
     "text": [
      "Current DFS path: 0\n",
      "Current DFS path: 0->1\n",
      "Current DFS path: 0->1->2\n",
      "Current DFS path: 0->1->2->3\n",
      "Current DFS path: 0->1->2->3->4\n",
      "Current DFS path: 0->1->2->3->5\n",
      "Current DFS path: 0->1->2->4\n",
      "Current DFS path: 0->2\n",
      "Current DFS path: 0->2->3\n",
      "Current DFS path: 0->2->3->4\n",
      "Current DFS path: 0->2->3->5\n",
      "Current DFS path: 0->2->3->1\n",
      "Current DFS path: 0->2->4\n",
      "Shortest path found by DFS: 0->2->3->5\n"
     ]
    }
   ],
   "source": [
    "testSP()"
   ]
  },
  {
   "cell_type": "code",
   "execution_count": 16,
   "metadata": {},
   "outputs": [],
   "source": [
    "def BFS(graph, start, end, toPrint = False):\n",
    "    \"\"\"Assumes graph is a Digraph; start and end are nodes\n",
    "       Returns a shortest path from start to end in graph\"\"\"\n",
    "    initPath = [start]\n",
    "    pathQueue = [initPath]\n",
    "    while len(pathQueue) != 0:\n",
    "        #Get and remove oldest element in pathQueue\n",
    "        tmpPath = pathQueue.pop(0)\n",
    "        if toPrint:\n",
    "            print('Current BFS path:', printPath(tmpPath))\n",
    "        lastNode = tmpPath[-1]\n",
    "        if lastNode == end:\n",
    "            return tmpPath\n",
    "        for nextNode in graph.childrenOf(lastNode):\n",
    "            if nextNode not in tmpPath:\n",
    "                newPath = tmpPath + [nextNode]\n",
    "                pathQueue.append(newPath)\n",
    "    return None"
   ]
  },
  {
   "cell_type": "code",
   "execution_count": 17,
   "metadata": {},
   "outputs": [],
   "source": [
    "def testSP():\n",
    "    nodes = []\n",
    "    for name in range(6): #Create 6 nodes\n",
    "        nodes.append(Node(str(name)))\n",
    "    g = Digraph()\n",
    "    for n in nodes:\n",
    "        g.addNode(n)\n",
    "    g.addEdge(Edge(nodes[0],nodes[1]))\n",
    "    g.addEdge(Edge(nodes[1],nodes[2]))\n",
    "    g.addEdge(Edge(nodes[2],nodes[3]))\n",
    "    g.addEdge(Edge(nodes[2],nodes[4]))\n",
    "    g.addEdge(Edge(nodes[3],nodes[4]))\n",
    "    g.addEdge(Edge(nodes[3],nodes[5]))\n",
    "    g.addEdge(Edge(nodes[0],nodes[2]))\n",
    "    g.addEdge(Edge(nodes[1],nodes[0]))\n",
    "    g.addEdge(Edge(nodes[3],nodes[1]))\n",
    "    g.addEdge(Edge(nodes[4],nodes[0]))\n",
    "    sp = shortestPath(g, nodes[0], nodes[5], toPrint = True)\n",
    "    print('Shortest path found by DFS:', printPath(sp))\n",
    "    sp = BFS(g, nodes[0], nodes[5], toPrint = True)\n",
    "    print('Shortest path found by BFS:', printPath(sp))"
   ]
  },
  {
   "cell_type": "code",
   "execution_count": 18,
   "metadata": {},
   "outputs": [
    {
     "name": "stdout",
     "output_type": "stream",
     "text": [
      "Current DFS path: 0\n",
      "Current DFS path: 0->1\n",
      "Current DFS path: 0->1->2\n",
      "Current DFS path: 0->1->2->3\n",
      "Current DFS path: 0->1->2->3->4\n",
      "Current DFS path: 0->1->2->3->5\n",
      "Current DFS path: 0->1->2->4\n",
      "Current DFS path: 0->2\n",
      "Current DFS path: 0->2->3\n",
      "Current DFS path: 0->2->3->4\n",
      "Current DFS path: 0->2->3->5\n",
      "Current DFS path: 0->2->3->1\n",
      "Current DFS path: 0->2->4\n",
      "Shortest path found by DFS: 0->2->3->5\n",
      "Current BFS path: 0\n",
      "Current BFS path: 0->1\n",
      "Current BFS path: 0->2\n",
      "Current BFS path: 0->1->2\n",
      "Current BFS path: 0->2->3\n",
      "Current BFS path: 0->2->4\n",
      "Current BFS path: 0->1->2->3\n",
      "Current BFS path: 0->1->2->4\n",
      "Current BFS path: 0->2->3->4\n",
      "Current BFS path: 0->2->3->5\n",
      "Shortest path found by BFS: 0->2->3->5\n"
     ]
    }
   ],
   "source": [
    "testSP()"
   ]
  },
  {
   "cell_type": "code",
   "execution_count": null,
   "metadata": {},
   "outputs": [],
   "source": []
  }
 ],
 "metadata": {
  "kernelspec": {
   "display_name": "Python 3",
   "language": "python",
   "name": "python3"
  },
  "language_info": {
   "codemirror_mode": {
    "name": "ipython",
    "version": 3
   },
   "file_extension": ".py",
   "mimetype": "text/x-python",
   "name": "python",
   "nbconvert_exporter": "python",
   "pygments_lexer": "ipython3",
   "version": "3.8.2"
  }
 },
 "nbformat": 4,
 "nbformat_minor": 4
}
