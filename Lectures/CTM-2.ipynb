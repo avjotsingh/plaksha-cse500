{
 "cells": [
  {
   "cell_type": "markdown",
   "metadata": {
    "slideshow": {
     "slide_type": "slide"
    }
   },
   "source": [
    "# Coding the Matrix\n",
    "\n",
    "https://codingthematrix.com/\n",
    "\n"
   ]
  },
  {
   "cell_type": "markdown",
   "metadata": {
    "slideshow": {
     "slide_type": "slide"
    }
   },
   "source": [
    "## What we will cover today\n",
    "\n",
    "- "
   ]
  },
  {
   "cell_type": "markdown",
   "metadata": {
    "slideshow": {
     "slide_type": "slide"
    }
   },
   "source": [
    "## Playing with GF(2)\n",
    "\n",
    "Galois Field 2 has two elements: 0 and 1  \n",
    "\n",
    "\n",
    "Addition is like exclusive-or (xor):  \n",
    "\n",
    "\n",
    "| + |  0  |  1  |\n",
    "|---|-----|-----|\n",
    "|**0**|  0  |  1  |\n",
    "|**1**|  1  |  0  |\n",
    "\n",
    "\n",
    "Multiplication is like ordinary multiplication:\n",
    "\n",
    "| x |  0  |  1  |\n",
    "|---|-----|-----|\n",
    "|**0**|  0  |  0  |\n",
    "|**1**|  0  |  1  |\n",
    "    \n",
    "\n",
    "\n",
    "Usual algebraic laws still hold, e.g. multiplication distributes over addition  \n",
    "$a.(b\\ +\\ c)\\ =\\ a.b\\ +\\ a.c$\n"
   ]
  },
  {
   "cell_type": "markdown",
   "metadata": {
    "slideshow": {
     "slide_type": "slide"
    }
   },
   "source": [
    "## Dictionary based representation of vectors\n",
    "\n",
    "Python ```class Vec``` with two fields (instance variables):\n",
    "- ```f```, the function, represented by a Python dictionary, and\n",
    "- ```D```, the domain of the function, represented by a Python set."
   ]
  },
  {
   "cell_type": "markdown",
   "metadata": {
    "slideshow": {
     "slide_type": "slide"
    }
   },
   "source": [
    "### The game called \"Lights Out\"\n",
    "\n",
    "https://www.logicgamesonline.com/lightsout/"
   ]
  },
  {
   "cell_type": "markdown",
   "metadata": {
    "slideshow": {
     "slide_type": "slide"
    }
   },
   "source": [
    "### What does this have to do with vectors?"
   ]
  },
  {
   "cell_type": "markdown",
   "metadata": {
    "slideshow": {
     "slide_type": "slide"
    }
   },
   "source": [
    "### Puzzle state represented as a vector over GF(2)\n",
    "\n",
    "- What is the Domain? \n",
    "    * The set of tuples $(0,0), (0,1),...,(4,3),(4,4)$\n",
    "- Represent a light that is on by *one* and one that is off by a *zero*"
   ]
  },
  {
   "cell_type": "markdown",
   "metadata": {
    "slideshow": {
     "slide_type": "slide"
    }
   },
   "source": [
    "### Example representation\n",
    "\n",
    "\n",
    "![Example Puzzzle State](diagrams/LightsOut1.png)\n",
    "```\n",
    "{(0,0):one, (0,1):one, (0,2):one, (0,3):one, (0,4):0\n",
    " (1,0):0, (1,1):one, (1,2):0, (1,3):0, (1,4):0\n",
    " (2,0):0, (2,1):one, (2,2):one, (2,3):0, (2,4):0\n",
    " (3,0):0, (3,1):one, (3,2):one, (3,3):0, (3,4):one\n",
    " (4,0):0, (4,1):0, (4,2):one, (4,3):one, (4,4):one}\n",
    "```       \n",
    "\n",
    "Let $s$ denote this vector"
   ]
  },
  {
   "cell_type": "markdown",
   "metadata": {
    "slideshow": {
     "slide_type": "slide"
    }
   },
   "source": [
    "### Moves\n",
    "\n",
    "- A move consists of pushing a button which changes the state of the puzzle\n",
    "- For example, pushing the top-left button (0,0) flips the light at (0,0), (0,1) and (1,0)\n",
    "- Change can be represented by \"button vector\"\n",
    "    * ```{(0,0):one, (0,1):one, (1,0):one}```\n",
    "    * Let us denote this vector by $v_{0,0}$\n",
    "- New state resulting when you start $s$ and then push button (0,0) is represented by the vector $s + v_{0,0}$\n",
    "    * For each entry (i,j) for which $v_{0,0}$ is zero, entries (i,j) in $s$ and $s + v_{0,0}$ are the same\n",
    "    * For each entry (i,j) for which $v_{0,0}$ is one, entries (i,j) in $s$ and $s + v_{0,0}$ differ\n",
    "- If we push (1,1) next, the state is $s + v_{0,0} + v_{1,1}$ and the button vector for $v_{1,1}$ is:  \n",
    "    ```{(1,1):one, (0,1):one, (1,0): one, (2,1): one, (1,2):one}```\n",
    "- So, generally:  \n",
    "    new state := old state + button vector\n"
   ]
  },
  {
   "cell_type": "markdown",
   "metadata": {
    "slideshow": {
     "slide_type": "slide"
    }
   },
   "source": [
    "### So, the puzzle is about...\n",
    "\n",
    "- Given an initial state, the goal is to find a sequence of button-pushes that turn off all the lights\n",
    "- In vector-speak: given a vector $s$ representing an initial state, select a sequence of vactors $v_1,....v_m$ such that\n",
    "\n",
    "\\begin{equation*}\n",
    "(\\dots((s + v_1) + v_2)\\dots) + v_m = the\\ zero\\ vector\n",
    "\\end{equation*}\n",
    "\n",
    "- By the associativity of vector addition:\n",
    "\n",
    "\\begin{equation*}\n",
    "s + v_1 + v_2 + \\dots + v_m = the\\ all-zeroes\\ vector\n",
    "\\end{equation*}\n",
    "\n",
    "- Let us add $s$ to both sides. Since a vector plus itself is the all-zeroes vector, and adding the all-zeroes vector does nothing, we obtain\n",
    "\n",
    "\\begin{equation*}\n",
    "v_1 + v_2 + \\dots + v_m = s\n",
    "\\end{equation*}\n",
    "\n",
    "- If a particular buttons's vector appears twice on the left-hand side, the two occurrences cancel each other out. Thus we can restrict attention to slutions in which each button vector appears once\n",
    "- By the commutativity of vector addition, the order of addition is irrelevant\n",
    "- Therefore, find how to get from an initial state to completely dark state is equivalent to selcting a subset of the button vectors whose sum is the vector $s$"
   ]
  },
  {
   "cell_type": "markdown",
   "metadata": {
    "slideshow": {
     "slide_type": "slide"
    }
   },
   "source": [
    "### Example 2 X 2 version of the puzzle"
   ]
  },
  {
   "cell_type": "markdown",
   "metadata": {
    "slideshow": {
     "slide_type": "slide"
    }
   },
   "source": [
    "### General Computational Problem\n",
    "\n",
    "*Representing a given vector as a sum of a subset of other given vectors over GF(2)*\n",
    "\n",
    "- *input*: a vector ```s``` and a list ```L``` of vectors over GF(2)\n",
    "- *output*: a subset of the vectors in ```L``` whose sum is ```s```, or a report that there is no such subset\n",
    "\n",
    "  \n",
    "  \n",
    "- Brute force approach: try each possible subset of vectors in ```L```\n",
    "- Number of possibilities are $2^{|L|}$\n",
    "- For the 5 X 5 case, $2^25$ or 33,554,432 possibilities"
   ]
  },
  {
   "cell_type": "markdown",
   "metadata": {
    "slideshow": {
     "slide_type": "slide"
    }
   },
   "source": [
    "### Let us generalize a little "
   ]
  },
  {
   "cell_type": "markdown",
   "metadata": {
    "slideshow": {
     "slide_type": "slide"
    }
   },
   "source": [
    "### Products and Resources\n",
    "\n",
    "- The JunkCo factory makes things using five resources: metal, concrete, plastic, water and electricity\n",
    "- Let $D$ be these set of resources\n",
    "- The factory has the ability to make five different products\n",
    "\n",
    "||metal|concrete|plastic|water|electricity\n",
    "|---|---|---|---|---|---|\n",
    "|garden gnome| 0 | 1.3 | .2 | .8 | .4 |\n",
    "|hula hoop| 0 | 0 | 1.5 | .4 | .3 |\n",
    "|slinky| .25 | 0 | 0 | .2 | .7 |\n",
    "|silly putty| 0 | 0 | .3 | .7 | .5 |\n",
    "|salad shooter| .15 | 0 | .5| .4 | .8|\n",
    "\n"
   ]
  },
  {
   "cell_type": "markdown",
   "metadata": {
    "slideshow": {
     "slide_type": "slide"
    }
   },
   "source": [
    "### Vector representation\n",
    "\n",
    "- The $i^{th}$ product's resource utilization is stored in a $\\textit {D-vector}$ $v_i$ over ${\\rm I\\!R}$\n",
    "- E.g. a gnome is represented by  \n",
    "    $v_{gnome}$ = ```Vec(D,{'concrete':1.3, 'plastic':2, 'water':.8, 'electricity':.4})```\n",
    "- Suppose the factory plans to make $\\alpha_{gnome}$ garden gnomes, $\\alpha_{hoop}$ hula hoops, $\\alpha_{slinky}$ slinkies, $\\alpha_{putty}$ silly putties and $\\alpha_{shooter}$ salad shooters\n",
    "- The total resource utilization is expressed as a linear combination:\n",
    "\\begin{equation*}\n",
    "\\alpha_{gnome}v_{gnome} + \\alpha_{hoop}v_{hoop} + \\alpha_{slinky}v_{slinky} + \\alpha_{putty}v_{putty} + \\alpha_{shooter}v_{shooter}\n",
    "\\end{equation*}\n",
    "- For example, Junkco decides to make 240 gnomes, 55 hoops, 150 slinkies, 133 putties and 90 shooters\n",
    "- We can write using our ```Vec``` class\n",
    "\n",
    "#####Code\n"
   ]
  },
  {
   "cell_type": "markdown",
   "metadata": {
    "slideshow": {
     "slide_type": "slide"
    }
   },
   "source": [
    "### Linear Combinations\n",
    "\n",
    "**For a length-n list $[v_1,...,v_n]$ of vectors, there is a function $f$ that maps each length-n list $[\\alpha_1,...,\\alpha_n]$ of coefficients to the corresponding linear combination $\\alpha_1v_1 + \\cdots + \\alpha_nv_n$.**\n",
    "\n",
    "---\n",
    "\n",
    "- There are two related computational problems:\n",
    "    * *forward* problem - given an element of the domain, find the image under the function\n",
    "    * *backward* problem - given an element of the co-domain, find any pre-image if there is one\n"
   ]
  },
  {
   "cell_type": "markdown",
   "metadata": {
    "slideshow": {
     "slide_type": "slide"
    }
   },
   "source": [
    "### Forward Problem\n",
    "\n",
    "*Define a procedure `lin_comb(vlist, clist)` with the following spec:*\n",
    "\n",
    "- *input*: a list `vlist` of vectors, a list `clist` of the same length consisting of scalars\n",
    "- *output*: the vector that is the linear combination of the vectors in `vlist` with the corresponding coefficients `clist`"
   ]
  },
  {
   "cell_type": "markdown",
   "metadata": {
    "slideshow": {
     "slide_type": "slide"
    }
   },
   "source": [
    "### Backward Problem\n",
    "\n",
    "- Can you obtain a pre-image of $b$ under $f$\n",
    "- Is there a single solution to this question?\n",
    "\n",
    "\n",
    "*Expressing a given vector as a linear combination of other given vectors*\n",
    "- *input*: a vector $b$ and list $[v_1,...,v_n]$ of $n$ vectors\n",
    "- *output*: a list $[\\alpha_1,...,\\alpha_n]$ of coefficients such that\n",
    "\n",
    "\\begin{equation*}\n",
    "b = \\alpha_1v_1 + \\dots + \\alpha_nv_n\n",
    "\\end{equation*}\n",
    "\n",
    "    or a report that none exists"
   ]
  },
  {
   "cell_type": "markdown",
   "metadata": {
    "slideshow": {
     "slide_type": "slide"
    }
   },
   "source": [
    "### Back to \"Lights Out\"\n",
    "\n",
    "Formulating this using the notion of linear combinations. Over $GF(2)$, the only coefficients are zero and one. A linear combination of the 25 button vectors:\n",
    "\n",
    "\\begin{equation*}\n",
    "\\alpha_{0,0}v_{0,0} + \\alpha_{0,1}v_{0,1} + \\dots + \\alpha_{4,4}v_{4,4}\n",
    "\\end{equation*}\n",
    "\n",
    "is the sum of some subset of button vectors, nameloy those whose coeffcients are one.  \n",
    "\n",
    "\n",
    "Our goal is to find a linear combination of the 25 button vectors whose value is $s$:\n",
    "\n",
    "\\begin{equation*}\n",
    "s = \\alpha_{0,0}v_{0,0} + \\alpha_{0,1}v_{0,1} + \\dots + \\alpha_{4,4}v_{4,4}\n",
    "\\end{equation*}\n"
   ]
  },
  {
   "cell_type": "markdown",
   "metadata": {
    "slideshow": {
     "slide_type": "slide"
    }
   },
   "source": [
    "### Gaussian elimination over $GF(2)$\n",
    "\n",
    "- Nonzero rows of a matrix in echelon form are a basis for the row space of the matrix\n",
    "- Gaussian elimination is a process to transform a matrix into echelon form without changing the row space\n",
    "- This gives us an algorithm for finding a basis for the row space of a matrix"
   ]
  },
  {
   "cell_type": "markdown",
   "metadata": {
    "slideshow": {
     "slide_type": "slide"
    }
   },
   "source": [
    "### Example\n",
    "\n",
    "||A|B|C|D|\n",
    "|-|-|-|-|-|\n",
    "|1|0|0|one|one|\n",
    "|2|one|0|one|one|\n",
    "|3|one|0|0|one|\n",
    "|4|one|one|one|one|\n",
    "\n",
    "> For Column A, select row 2 as pivot and add to rows 3 and 4\n",
    "\n",
    "||A|B|C|D|\n",
    "|-|-|-|-|-|\n",
    "|1|0|0|one|one|\n",
    "|2|one|0|one|one|\n",
    "|3|0|0|one|0|\n",
    "|4|0|one|0|0|\n",
    "\n",
    "> For Column C, select row 1 as pivot and add to row 3\n",
    "\n",
    "||A|B|C|D|\n",
    "|-|-|-|-|-|\n",
    "|1|0|0|one|one|\n",
    "|2|one|0|one|one|\n",
    "|3|0|0|0|one|\n",
    "|4|0|one|0|0|\n",
    "\n",
    "> For Column D, select row 3 as pivot and no operations; New row_list\n",
    "\n",
    "||A|B|C|D|\n",
    "|-|-|-|-|-|\n",
    "|0|one|0|one|one|\n",
    "|1|0|one|0|0|\n",
    "|2|0|0|one|one|\n",
    "|3|0|0|0|one|\n"
   ]
  },
  {
   "cell_type": "markdown",
   "metadata": {
    "slideshow": {
     "slide_type": "slide"
    }
   },
   "source": [
    "### Representing a Matrix\n",
    "\n",
    "- Traditionally, a matrix is often represented as a list of row-lists\n",
    "    * Each row of matrix $A$ is represented by a list of numbers\n",
    "    * Matrix is represented by a list $L$ of these lists\n",
    "    \n",
    "- But like entries of a vector are identfied by elements of an arbitrary finite set, we can refer to a matrix's rows and columns using arbitrary finite sets\n",
    "\n",
    "- Similar to how we defined a $\\textit {D-vector}$ over ${\\rm I\\!F}$ to be a function from a set $D$ to ${\\rm I\\!F}$, so we define a $R X C$ *matrix* over ${\\rm I\\!F}$ to be a function from the Cartesian product $R X C$\n",
    "\n",
    "- Elements of $R$ are *row labels* and elements of $C$ are *column labels*"
   ]
  },
  {
   "cell_type": "markdown",
   "metadata": {
    "slideshow": {
     "slide_type": "slide"
    }
   },
   "source": [
    "### Example\n",
    "\n",
    "- `R = {'a', 'b'}` and `C = {'#', '@', '?'}`\n",
    "\n",
    "||@|#|?|\n",
    "|-|-|-|-|\n",
    "a|1|2|3|\n",
    "b|10|20|30|\n",
    "\n",
    "- Formally, this matrix is a function from $R X C$ to ${\\rm I\\!R}$. We can represent the function as:\n",
    "\n",
    "```\n",
    "{('a','@'):1, ('a','#'):2, ('a','?'):3, ('b','@'):10, ('b','#'):20, ('b','?'):30}\n",
    "```\n"
   ]
  },
  {
   "cell_type": "markdown",
   "metadata": {
    "slideshow": {
     "slide_type": "slide"
    }
   },
   "source": [
    "### Python implementation\n",
    "\n",
    "- An instance of `Mat` will have two fields:\n",
    "    * `D`, which will be bound to a *pair* $(R,C)$ of sets \n",
    "    * 'f', which will be bound to a dictionary representing the function that maps pairs $(r,c) \\in R X C$ to field elements\n",
    "- Follow sparsity convention"
   ]
  },
  {
   "cell_type": "code",
   "execution_count": null,
   "metadata": {},
   "outputs": [],
   "source": []
  }
 ],
 "metadata": {
  "celltoolbar": "Slideshow",
  "kernelspec": {
   "display_name": "Python 3",
   "language": "python",
   "name": "python3"
  },
  "language_info": {
   "codemirror_mode": {
    "name": "ipython",
    "version": 3
   },
   "file_extension": ".py",
   "mimetype": "text/x-python",
   "name": "python",
   "nbconvert_exporter": "python",
   "pygments_lexer": "ipython3",
   "version": "3.8.2"
  },
  "rise": {
   "enable_chalkboard": true,
   "theme": "serif",
   "transition": "zoom"
  }
 },
 "nbformat": 4,
 "nbformat_minor": 4
}
