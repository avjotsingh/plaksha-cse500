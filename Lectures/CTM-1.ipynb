{
 "cells": [
  {
   "cell_type": "markdown",
   "metadata": {
    "slideshow": {
     "slide_type": "slide"
    }
   },
   "source": [
    "# Coding the Matrix\n",
    "\n",
    "https://codingthematrix.com/\n",
    "\n"
   ]
  },
  {
   "cell_type": "markdown",
   "metadata": {
    "slideshow": {
     "slide_type": "slide"
    }
   },
   "source": [
    "## What we will cover today\n",
    "\n",
    "- "
   ]
  },
  {
   "cell_type": "markdown",
   "metadata": {
    "slideshow": {
     "slide_type": "slide"
    }
   },
   "source": [
    "## Vectors are functions\n",
    "\n",
    "### Examples:\n",
    "\n",
    "- Consider the 4-vector e.g. [3.14159, 2.718281828, −1.0, 2.0]; Set of 4-vectors over R written as ${\\rm I\\!R}^4$  \n",
    "This can be thought of as $0 \\mapsto 3.14149,   1 \\mapsto 2.718281828,   2 \\mapsto -1.0,   3 \\mapsto 2.0$  \n",
    "  \n",
    "- $\\textit{GF(2)^5}$ is the set of 5-element bit sequences [0,0,0,0,0], [0,0,0,0,1],...  \n",
    "  \n",
    "- Let WORDS = set of all English words  \n",
    "In Information retrieval, a document is represented (\"bag of words\" model) by a function $\\textit f: WORDS \\longmapsto {\\rm I\\!R}$ specifying, for each word, how many times it appears in the document.  \n",
    "We would refer to such a function a WORDS-vector over ${\\rm I\\!R}$  \n",
    "\n"
   ]
  },
  {
   "cell_type": "markdown",
   "metadata": {
    "slideshow": {
     "slide_type": "slide"
    }
   },
   "source": [
    "## Vectors are functions\n",
    "\n",
    "\n",
    "### Definition:\n",
    "For a field ${\\rm I\\!F}$ and a set $\\textit D$, a $\\textit {D-vector}$ over ${\\rm I\\!F}$ is a function from $\\textit D$ to ${\\rm I\\!F}$. The set of such functions is written as ${\\rm I\\!F}^D$\n"
   ]
  },
  {
   "cell_type": "markdown",
   "metadata": {
    "slideshow": {
     "slide_type": "slide"
    }
   },
   "source": [
    "## Representation using Python dictionaries\n",
    "\n",
    "- ```{0:3.14159, 1:2.718281828, 2:-1.0, 3:2.0}```\n",
    "\n",
    "- WORDS-vector over ${\\rm I\\!R}$  \n",
    "For any single document, most words are not represented. They should be mapped to zero.  \n",
    "Our convention for representing vectors by dictionaries: we are allowed to omit key-value pairs when value is zero.\n",
    "\n",
    "**Example** “The rain in Spain falls mainly on the plain” would be represented by the dictionary\n",
    "```\n",
    "{’on’: 1, ’Spain’: 1, ’in’: 1, ’plain’: 1, ’the’: 2, ’mainly’: 1, ’rain’: 1, ’falls’: 1}\n",
    "```"
   ]
  },
  {
   "cell_type": "markdown",
   "metadata": {
    "slideshow": {
     "slide_type": "slide"
    }
   },
   "source": [
    "## Sparsity\n",
    "\n",
    "A vector most of whose values are zero is called a sparse vector.  \n",
    "If no more than k of the entries are nonzero, we say the vector is k-sparse.  \n",
    "\n",
    "\n",
    "A k-sparse vector can be represented using space proportional to k.  \n",
    "**Example:** when we represent a corpus of documents by WORD-vectors, the storage required is proportional to the total number of words in all documents.  \n",
    "\n",
    "\n",
    "Most signals acquired via physical sensors (images, sound, ...) are not exactly sparse.\n",
    "But, lossy compression: making them sparse while preserving perceptual similarity."
   ]
  },
  {
   "cell_type": "markdown",
   "metadata": {
    "slideshow": {
     "slide_type": "slide"
    }
   },
   "source": [
    "## What can we represent with a vector\n",
    "\n",
    "- Document (for information retrival)  \n",
    "- Binary string (for cryptography / information theory)  \n",
    "- Collection of attributes\n",
    "    * Senate voting record\n",
    "    * Demographic record of a consumer\n",
    "    * Characteristics of cancer cells  \n",
    "- State of a system\n",
    "    * Population distribution in the world\n",
    "    * Number of copies in a computer network\n",
    "    * State of pseudorandom generator\n",
    "- Probability distribution e.g. ```{1:1/6, 2:1/6, 3:1/6, 4:1/6, 5:1/6, 6:1/6}```"
   ]
  },
  {
   "cell_type": "markdown",
   "metadata": {
    "slideshow": {
     "slide_type": "slide"
    }
   },
   "source": [
    "## Vector addition: Translation and vector addition\n",
    "\n",
    "### Definition of vector addition:\n",
    "\n",
    "$[u_1, u_2,...,u_n]\\ +\\ [v_1, v_2,....,v_n]\\ =\\ [u_1+v_1, u_2+v_2,...., u_n+v_n]$\n",
    "\n",
    "**Question:** Suppose we represent n-vectors by n-element lists. Write a procedure ```addn(v,w)``` to compute the sum of two vectors so represented. "
   ]
  },
  {
   "cell_type": "code",
   "execution_count": 1,
   "metadata": {
    "slideshow": {
     "slide_type": "slide"
    }
   },
   "outputs": [],
   "source": [
    "\n",
    "def addn(v, w): return [v[i]+w[i] for i in range(len(v))] \n"
   ]
  },
  {
   "cell_type": "markdown",
   "metadata": {
    "slideshow": {
     "slide_type": "slide"
    }
   },
   "source": [
    "## Vectors\n",
    "\n",
    "- Zero Vector \n",
    "- Associativity of vector addition\n",
    "- Commutativity of vector addition\n",
    "- Scalar multiplication\n",
    "- Distributive Law\n",
    "    * Convex combination\n",
    "    * Affine combination\n"
   ]
  },
  {
   "cell_type": "markdown",
   "metadata": {
    "slideshow": {
     "slide_type": "slide"
    }
   },
   "source": [
    "## Playing with GF(2)\n",
    "\n",
    "Galois Field 2 has two elements: 0 and 1  \n",
    "\n",
    "\n",
    "Addition is like exclusive-or (xor):  \n",
    "\n",
    "\n",
    "| + |  0  |  1  |\n",
    "|---|-----|-----|\n",
    "|**0**|  0  |  1  |\n",
    "|**1**|  1  |  0  |\n",
    "\n",
    "\n",
    "Multiplication is like ordinary multiplication:\n",
    "\n",
    "| x |  0  |  1  |\n",
    "|---|-----|-----|\n",
    "|**0**|  0  |  0  |\n",
    "|**1**|  0  |  1  |\n",
    "    \n",
    "\n",
    "\n",
    "Usual algebraic laws still hold, e.g. multiplication distributes over addition  \n",
    "$a.(b\\ +\\ c)\\ =\\ a.b\\ +\\ a.c$\n"
   ]
  },
  {
   "cell_type": "markdown",
   "metadata": {
    "slideshow": {
     "slide_type": "slide"
    }
   },
   "source": [
    "## Draw: Lights Out"
   ]
  },
  {
   "cell_type": "markdown",
   "metadata": {
    "slideshow": {
     "slide_type": "slide"
    }
   },
   "source": [
    "## Dictionary based representation of vectors\n",
    "\n",
    "Python ```class Vec``` with two fields (instance variables):\n",
    "- ```f```, the function, represented by a Python dictionary, and\n",
    "- ```D```, the domain of the function, represented by a Python set."
   ]
  },
  {
   "cell_type": "code",
   "execution_count": 2,
   "metadata": {
    "slideshow": {
     "slide_type": "slide"
    }
   },
   "outputs": [],
   "source": [
    "class Vec:\n",
    "    def __init__(self, labels, function):\n",
    "        self.D = labels\n",
    "        self.f = function"
   ]
  },
  {
   "cell_type": "code",
   "execution_count": 3,
   "metadata": {
    "slideshow": {
     "slide_type": "slide"
    }
   },
   "outputs": [],
   "source": [
    "v = Vec({'A', 'B', 'C'}, {'A':1})\n",
    "\n",
    "for d in v.D:\n",
    "    if d in v.f:\n",
    "        print(v.f[d])"
   ]
  },
  {
   "cell_type": "markdown",
   "metadata": {
    "slideshow": {
     "slide_type": "slide"
    }
   },
   "source": [
    "**Quiz**: Write a procedure zero_vec(D) with the following spec:  \n",
    "- *input*: a set D\n",
    "- *output*: an instance of ```Vec``` representing a $\\textit {D-vector}$ all of whose entries have value zero \n",
    "\n"
   ]
  },
  {
   "cell_type": "code",
   "execution_count": 4,
   "metadata": {
    "slideshow": {
     "slide_type": "slide"
    }
   },
   "outputs": [
    {
     "ename": "SyntaxError",
     "evalue": "unexpected EOF while parsing (<ipython-input-4-77abd55fd4b2>, line 1)",
     "output_type": "error",
     "traceback": [
      "\u001b[0;36m  File \u001b[0;32m\"<ipython-input-4-77abd55fd4b2>\"\u001b[0;36m, line \u001b[0;32m1\u001b[0m\n\u001b[0;31m    def zero_vec(D):\u001b[0m\n\u001b[0m                     ^\u001b[0m\n\u001b[0;31mSyntaxError\u001b[0m\u001b[0;31m:\u001b[0m unexpected EOF while parsing\n"
     ]
    }
   ],
   "source": [
    "def zero_vec(D): "
   ]
  },
  {
   "cell_type": "markdown",
   "metadata": {
    "slideshow": {
     "slide_type": "slide"
    }
   },
   "source": [
    "### Setter and getter"
   ]
  },
  {
   "cell_type": "code",
   "execution_count": null,
   "metadata": {
    "slideshow": {
     "slide_type": "slide"
    }
   },
   "outputs": [],
   "source": [
    "def setitem(v, d, val): v.f[d] = val"
   ]
  },
  {
   "cell_type": "markdown",
   "metadata": {
    "slideshow": {
     "slide_type": "slide"
    }
   },
   "source": [
    "**Quiz**: Write a procedure ```getitem(v,d)``` with the following spec:\n",
    "- *input*: an instance ```v``` of ```Vec```, and an element ```d``` of the set ```v.D```\n",
    "- *output*: the value of entry ```d``` of ```v```\n",
    "\n",
    "Use the sparse-representation convention\n",
    "\n",
    "```\n",
    ">>> getitem(v, 'A')\n",
    "1\n",
    "```"
   ]
  },
  {
   "cell_type": "code",
   "execution_count": 5,
   "metadata": {
    "slideshow": {
     "slide_type": "slide"
    }
   },
   "outputs": [
    {
     "ename": "SyntaxError",
     "evalue": "unexpected EOF while parsing (<ipython-input-5-e4d61168900d>, line 1)",
     "output_type": "error",
     "traceback": [
      "\u001b[0;36m  File \u001b[0;32m\"<ipython-input-5-e4d61168900d>\"\u001b[0;36m, line \u001b[0;32m1\u001b[0m\n\u001b[0;31m    def geitem(v,d):\u001b[0m\n\u001b[0m                     ^\u001b[0m\n\u001b[0;31mSyntaxError\u001b[0m\u001b[0;31m:\u001b[0m unexpected EOF while parsing\n"
     ]
    }
   ],
   "source": [
    "def geitem(v,d): "
   ]
  },
  {
   "cell_type": "markdown",
   "metadata": {
    "slideshow": {
     "slide_type": "slide"
    }
   },
   "source": [
    "### Scalar-vector multiplication\n",
    "\n",
    "**Quiz** Write a procedure ```scalar_mul(v, alpha)``` with the following spec:\n",
    "- *input*: an instance of ```Vec``` and a scalar ```alpha```\n",
    "- *output*: a new instance of ```Vec``` that represents the scalar-vector product ```alpha``` times ```v```\n",
    "\n",
    "Hints:\n",
    "- sparse output \n",
    "- can use ```getitem(v, d)```\n",
    "- do not modify the vector that is passed in\n",
    "- new instance should point to the same set ```D``` as the old instance\n",
    "\n",
    "```\n",
    ">>> scalar_mul(v, 2)\n",
    "<__main__.Vec object at 0x10058cd10>\n",
    "\n",
    ">>> scalar_mul(v,2).f\n",
    "{'A': 2.0, 'C':0, 'B': 4.0}\n",
    "```"
   ]
  },
  {
   "cell_type": "code",
   "execution_count": null,
   "metadata": {
    "slideshow": {
     "slide_type": "slide"
    }
   },
   "outputs": [],
   "source": [
    "def scalar_mul(v, alpha):"
   ]
  },
  {
   "cell_type": "markdown",
   "metadata": {
    "slideshow": {
     "slide_type": "slide"
    }
   },
   "source": [
    "### Addition\n",
    "\n",
    "**Quiz** Write a procedure ```add(u, v)``` with the following spec:\n",
    "- *input*: instances ```u``` and ```v``` of ```Vec```\n",
    "- *output*: an intance of ```Vec``` that is the vector sum of ```u``` and ```v```\n",
    "\n",
    "e.g.\n",
    "```\n",
    ">>> u = Vec(v.D, {'A':5., 'C':10.})\n",
    ">>> add(u, v)\n",
    "<__main__.Vec object at 0x10058cd10>\n",
    ">>> add(u, v).f\n",
    "{'A': 6.0, 'C': 10.0', 'B': 2.0}\n",
    "```\n",
    "\n"
   ]
  },
  {
   "cell_type": "code",
   "execution_count": null,
   "metadata": {
    "slideshow": {
     "slide_type": "slide"
    }
   },
   "outputs": [],
   "source": [
    "def add(u, v):"
   ]
  },
  {
   "cell_type": "markdown",
   "metadata": {
    "slideshow": {
     "slide_type": "slide"
    }
   },
   "source": [
    "## Dot-product\n",
    "\n",
    "For two $\\textit {D-vectors}$ $u$ and $v$, the *dot-product* is the sum of the product of corresponding entries:\n",
    "\n",
    "\n",
    "\\begin{equation*}\n",
    "\\mathbf{u \\cdot v} = \\sum_{k \\in D} \\mathbf{u}[k] \\mathbf{v}[k]\n",
    "\\end{equation*}\n",
    "\n",
    "For example, for traditional vectors $\\mathbf{u} = [u_1,....,u_n]$ and $\\mathbf{v} = [v_1,....,v_n]$,\n",
    "\\begin{equation*}\n",
    "\\mathbf{u \\cdot v} = u_1v_1 + u_2v_2 + \\dots + u_nv_n\n",
    "\\end{equation*}"
   ]
  },
  {
   "cell_type": "code",
   "execution_count": null,
   "metadata": {},
   "outputs": [],
   "source": []
  }
 ],
 "metadata": {
  "celltoolbar": "Slideshow",
  "kernelspec": {
   "display_name": "Python 3",
   "language": "python",
   "name": "python3"
  },
  "language_info": {
   "codemirror_mode": {
    "name": "ipython",
    "version": 3
   },
   "file_extension": ".py",
   "mimetype": "text/x-python",
   "name": "python",
   "nbconvert_exporter": "python",
   "pygments_lexer": "ipython3",
   "version": "3.8.2"
  },
  "rise": {
   "enable_chalkboard": true,
   "theme": "serif",
   "transition": "zoom"
  }
 },
 "nbformat": 4,
 "nbformat_minor": 4
}
