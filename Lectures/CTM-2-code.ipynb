{
 "cells": [
  {
   "cell_type": "markdown",
   "metadata": {},
   "source": [
    "### Field GF(2)"
   ]
  },
  {
   "cell_type": "code",
   "execution_count": 10,
   "metadata": {},
   "outputs": [],
   "source": [
    "# Copyright 2013 Philip N. Klein\n",
    "from numbers import Number\n",
    "\n",
    "class One:\n",
    "    def __add__(self, other): return self if other == 0 else 0\n",
    "    __sub__ = __add__\n",
    "    def __mul__(self, other):\n",
    "        if isinstance(other, Number):\n",
    "            return 0 if other == 0 else self\n",
    "        return other\n",
    "    def __div__(self, other):\n",
    "        if other == 0: raise ZeroDivisionError\n",
    "        return self\n",
    "    __truediv__ = __div__\n",
    "    def __rdiv__(self,other): return other\n",
    "    __rtruediv__ = __rdiv__\n",
    "    __radd__ = __add__\n",
    "    __rsub__ = __add__\n",
    "    __rmul__ = __mul__\n",
    "    #hack to ensure not (one < 1e-16) by ensuring not (one < x) for every x\n",
    "    def __lt__(self,other): return False\n",
    "    def __eq__(self, other):\n",
    "        if isinstance(other, self.__class__) or other==0:\n",
    "            return other != 0\n",
    "        else:\n",
    "            raise TypeError\n",
    "    def __hash__(self): return 1\n",
    "    def __str__(self): return 'one'\n",
    "    __repr__ = __str__\n",
    "    def __neg__(self): return self\n",
    "    def __bool__(self): return True\n",
    "    def __format__(self, format_spec): return format(str(self),format_spec)"
   ]
  },
  {
   "cell_type": "code",
   "execution_count": 62,
   "metadata": {},
   "outputs": [
    {
     "data": {
      "text/plain": [
       "one"
      ]
     },
     "execution_count": 62,
     "metadata": {},
     "output_type": "execute_result"
    }
   ],
   "source": [
    "one = One()\n",
    "zero = 0\n",
    "one + one\n",
    "one * one"
   ]
  },
  {
   "cell_type": "markdown",
   "metadata": {},
   "source": [
    "### Vector (Dictionary based sparse vector implementation)"
   ]
  },
  {
   "cell_type": "code",
   "execution_count": 46,
   "metadata": {},
   "outputs": [],
   "source": [
    "def getitem(v,k):\n",
    "    \"\"\"\n",
    "    Return the value of entry k in v.\n",
    "    Be sure getitem(v,k) returns 0 if k is not represented in v.f.\n",
    "\n",
    "    >>> v = Vec({'a','b','c', 'd'},{'a':2,'c':1,'d':3})\n",
    "    >>> v['d']\n",
    "    3\n",
    "    >>> v['b']\n",
    "    0\n",
    "    \"\"\"\n",
    "    assert k in v.D\n",
    "    return v.f[k] if k in v.f else 0\n",
    "\n",
    "def setitem(v,k,val):\n",
    "    \"\"\"\n",
    "    Set the element of v with label d to be val.\n",
    "    setitem(v,d,val) should set the value for key d even if d\n",
    "    is not previously represented in v.f, and even if val is 0.\n",
    "\n",
    "    >>> v = Vec({'a', 'b', 'c'}, {'b':0})\n",
    "    >>> v['b'] = 5\n",
    "    >>> v['b']\n",
    "    5\n",
    "    >>> v['a'] = 1\n",
    "    >>> v['a']\n",
    "    1\n",
    "    >>> v['a'] = 0\n",
    "    >>> v['a']\n",
    "    0\n",
    "    \"\"\"\n",
    "    assert k in v.D\n",
    "    v.f[k] = val\n"
   ]
  },
  {
   "cell_type": "code",
   "execution_count": 47,
   "metadata": {},
   "outputs": [],
   "source": [
    "def scalar_mul(v, alpha):\n",
    "    \"\"\"\n",
    "    Returns the scalar-vector product alpha times v.\n",
    "\n",
    "    Consider using brackets notation v[...] in your procedure\n",
    "    to access entries of the input vector.  This avoids some sparsity bugs.\n",
    "\n",
    "    >>> zero = Vec({'x','y','z','w'}, {})\n",
    "    >>> u = Vec({'x','y','z','w'},{'x':1,'y':2,'z':3,'w':4})\n",
    "    >>> 0*u == zero\n",
    "    True\n",
    "    >>> 1*u == u\n",
    "    True\n",
    "    >>> 0.5*u == Vec({'x','y','z','w'},{'x':0.5,'y':1,'z':1.5,'w':2})\n",
    "    True\n",
    "    >>> u == Vec({'x','y','z','w'},{'x':1,'y':2,'z':3,'w':4})\n",
    "    True\n",
    "    \"\"\"\n",
    "    return Vec(v.D, {d:alpha*value for d, value in v.f.items()})\n",
    "\n",
    "def neg(v):\n",
    "    \"\"\"\n",
    "    Returns the negation of a vector.\n",
    "\n",
    "    Consider using brackets notation v[...] in your procedure\n",
    "    to access entries of the input vector.  This avoids some sparsity bugs.\n",
    "\n",
    "    >>> u = Vec({1,3,5,7},{1:1,3:2,5:3,7:4})\n",
    "    >>> -u\n",
    "    Vec({1, 3, 5, 7},{1: -1, 3: -2, 5: -3, 7: -4})\n",
    "    >>> u == Vec({1,3,5,7},{1:1,3:2,5:3,7:4})\n",
    "    True\n",
    "    >>> -Vec({'a','b','c'}, {'a':1}) == Vec({'a','b','c'}, {'a':-1})\n",
    "    True\n",
    "    \"\"\"\n",
    "    return Vec(v.D, {key:-value for key, value in v.f.items()})\n"
   ]
  },
  {
   "cell_type": "code",
   "execution_count": 48,
   "metadata": {},
   "outputs": [],
   "source": [
    "def add(u,v):\n",
    "    \"\"\"\n",
    "    Returns the sum of the two vectors.\n",
    "    \n",
    "    Consider using brackets notation u[...] and v[...] in your procedure\n",
    "    to access entries of the input vectors.  This avoids some sparsity bugs.\n",
    "\n",
    "    Do not seek to create more sparsity than exists in the two input vectors.\n",
    "    Doing so will unnecessarily complicate your code and will hurt performance.\n",
    "\n",
    "    Make sure to add together values for all keys from u.f and v.f even if some keys in u.f do not\n",
    "    exist in v.f (or vice versa)\n",
    "\n",
    "    >>> a = Vec({'a','e','i','o','u'}, {'a':0,'e':1,'i':2})\n",
    "    >>> b = Vec({'a','e','i','o','u'}, {'o':4,'u':7})\n",
    "    >>> c = Vec({'a','e','i','o','u'}, {'a':0,'e':1,'i':2,'o':4,'u':7})\n",
    "    >>> a + b == c\n",
    "    True\n",
    "    >>> a == Vec({'a','e','i','o','u'}, {'a':0,'e':1,'i':2})\n",
    "    True\n",
    "    >>> b == Vec({'a','e','i','o','u'}, {'o':4,'u':7})\n",
    "    True\n",
    "    >>> d = Vec({'x','y','z'}, {'x':2,'y':1})\n",
    "    >>> e = Vec({'x','y','z'}, {'z':4,'y':-1})\n",
    "    >>> f = Vec({'x','y','z'}, {'x':2,'y':0,'z':4})\n",
    "    >>> d + e == f\n",
    "    True\n",
    "    >>> d == Vec({'x','y','z'}, {'x':2,'y':1})\n",
    "    True\n",
    "    >>> e == Vec({'x','y','z'}, {'z':4,'y':-1})\n",
    "    True\n",
    "    >>> b + Vec({'a','e','i','o','u'}, {}) == b\n",
    "    True\n",
    "    \"\"\"\n",
    "    assert u.D == v.D\n",
    "    return Vec(v.D, {d:getitem(u,d) + getitem(v,d) for d in u.D})\n"
   ]
  },
  {
   "cell_type": "code",
   "execution_count": 49,
   "metadata": {},
   "outputs": [],
   "source": [
    "def equal(u,v):\n",
    "    \"\"\"\n",
    "    Return true iff u is equal to v.\n",
    "    Because of sparse representation, it is not enough to compare dictionaries\n",
    "\n",
    "    Consider using brackets notation u[...] and v[...] in your procedure\n",
    "    to access entries of the input vectors.  This avoids some sparsity bugs.\n",
    "\n",
    "    >>> Vec({'a', 'b', 'c'}, {'a':0}) == Vec({'a', 'b', 'c'}, {'b':0})\n",
    "    True\n",
    "    >>> Vec({'a', 'b', 'c'}, {'a': 0}) == Vec({'a', 'b', 'c'}, {})\n",
    "    True\n",
    "    >>> Vec({'a', 'b', 'c'}, {}) == Vec({'a', 'b', 'c'}, {'a': 0})\n",
    "    True\n",
    "\n",
    "    Be sure that equal(u, v) checks equalities for all keys from u.f and v.f even if\n",
    "    some keys in u.f do not exist in v.f (or vice versa)\n",
    "\n",
    "    >>> Vec({'x','y','z'},{'y':1,'x':2}) == Vec({'x','y','z'},{'y':1,'z':0})\n",
    "    False\n",
    "    >>> Vec({'a','b','c'}, {'a':0,'c':1}) == Vec({'a','b','c'}, {'a':0,'c':1,'b':4})\n",
    "    False\n",
    "    >>> Vec({'a','b','c'}, {'a':0,'c':1,'b':4}) == Vec({'a','b','c'}, {'a':0,'c':1})\n",
    "    False\n",
    "\n",
    "    The keys matter:\n",
    "    >>> Vec({'a','b'},{'a':1}) == Vec({'a','b'},{'b':1})\n",
    "    False\n",
    "\n",
    "    The values matter:\n",
    "    >>> Vec({'a','b'},{'a':1}) == Vec({'a','b'},{'a':2})\n",
    "    False\n",
    "    \"\"\"\n",
    "    assert u.D == v.D\n",
    "    return all([u[d] == v[d] for d in u.D])\n",
    "\n"
   ]
  },
  {
   "cell_type": "code",
   "execution_count": 50,
   "metadata": {},
   "outputs": [],
   "source": [
    "class Vec:\n",
    "    \"\"\"\n",
    "    A vector has two fields:\n",
    "    D - the domain (a set)\n",
    "    f - a dictionary mapping (some) domain elements to field elements\n",
    "        elements of D not appearing in f are implicitly mapped to zero\n",
    "    \"\"\"\n",
    "    def __init__(self, labels, function):\n",
    "        assert isinstance(labels, set)\n",
    "        assert isinstance(function, dict)\n",
    "        self.D = labels\n",
    "        self.f = function\n",
    "\n",
    "    __getitem__ = getitem\n",
    "    __setitem__ = setitem\n",
    "    __neg__ = neg\n",
    "    __rmul__ = scalar_mul #if left arg of * is primitive, assume it's a scalar\n",
    "\n",
    "    def __mul__(self,other):\n",
    "        #If other is a vector, returns the dot product of self and other\n",
    "        if isinstance(other, Vec):\n",
    "            return dot(self,other)\n",
    "        else:\n",
    "            return NotImplemented  #  Will cause other.__rmul__(self) to be invoked\n",
    "\n",
    "    def __truediv__(self,other):  # Scalar division\n",
    "        return (1/other)*self\n",
    "\n",
    "    __add__ = add\n",
    "\n",
    "    def __radd__(self, other):\n",
    "        \"Hack to allow sum(...) to work with vectors\"\n",
    "        if other == 0:\n",
    "            return self\n",
    "\n",
    "    def __sub__(a,b):\n",
    "        \"Returns a vector which is the difference of a and b.\"\n",
    "        return a+(-b)\n",
    "\n",
    "    __eq__ = equal\n",
    "\n",
    "    def is_almost_zero(self):\n",
    "        s = 0\n",
    "        for x in self.f.values():\n",
    "            if isinstance(x, int) or isinstance(x, float):\n",
    "                s += x*x\n",
    "            elif isinstance(x, complex):\n",
    "                y = abs(x)\n",
    "                s += y*y\n",
    "            else: return False\n",
    "        return s < 1e-20\n",
    "\n",
    "    def __str__(v):\n",
    "        \"pretty-printing\"\n",
    "        D_list = sorted(v.D, key=repr)\n",
    "        numdec = 3\n",
    "        wd = dict([(k,(1+max(len(str(k)), len('{0:.{1}G}'.format(v[k], numdec))))) if isinstance(v[k], int) or isinstance(v[k], float) else (k,(1+max(len(str(k)), len(str(v[k]))))) for k in D_list])\n",
    "        s1 = ''.join(['{0:>{1}}'.format(str(k),wd[k]) for k in D_list])\n",
    "        s2 = ''.join(['{0:>{1}.{2}G}'.format(v[k],wd[k],numdec) if isinstance(v[k], int) or isinstance(v[k], float) else '{0:>{1}}'.format(v[k], wd[k]) for k in D_list])\n",
    "        return \"\\n\" + s1 + \"\\n\" + '-'*sum(wd.values()) +\"\\n\" + s2\n",
    "\n",
    "    def __hash__(self):\n",
    "        \"Here we pretend Vecs are immutable so we can form sets of them\"\n",
    "        h = hash(frozenset(self.D))\n",
    "        for k,v in sorted(self.f.items(), key = lambda x:repr(x[0])):\n",
    "            if v != 0:\n",
    "                h = hash((h, hash(v)))\n",
    "        return h\n",
    "\n",
    "    def __repr__(self):\n",
    "        return \"Vec(\" + str(self.D) + \",\" + str(self.f) + \")\"\n",
    "\n",
    "    def copy(self):\n",
    "        \"Don't make a new copy of the domain D\"\n",
    "        return Vec(self.D, self.f.copy())\n",
    "\n",
    "    def __iter__(self):\n",
    "        raise TypeError('%r object is not iterable' % self.__class__.__name__)\n"
   ]
  },
  {
   "cell_type": "markdown",
   "metadata": {},
   "source": [
    "### End vec impl"
   ]
  },
  {
   "cell_type": "code",
   "execution_count": 53,
   "metadata": {},
   "outputs": [],
   "source": [
    "D = {'metal', 'concrete', 'plastic', 'water', 'electricity'}\n",
    "v_gnome = Vec(D, {'concrete':1.3, 'plastic': .2, 'water': .8, 'electricity':.4})\n",
    "v_hoop = Vec(D, {'plastic': 1.5, 'water': .4, 'electricity':.3})\n",
    "v_slinky = Vec(D, {'metal':.25, 'water': .2, 'electricity':.7})\n",
    "v_putty = Vec(D, {'plastic': .3, 'water': .7, 'electricity':.5})\n",
    "v_shooter = Vec(D, {'metal':.15, 'plastic': .5, 'water': .4, 'electricity':.8})"
   ]
  },
  {
   "cell_type": "code",
   "execution_count": 63,
   "metadata": {},
   "outputs": [
    {
     "name": "stdout",
     "output_type": "stream",
     "text": [
      "\n",
      " concrete electricity metal plastic water\n",
      "-----------------------------------------\n",
      "        0         0.7  0.25       0   0.2\n"
     ]
    },
    {
     "data": {
      "text/plain": [
       "\"Vec({'concrete', 'plastic', 'metal', 'water', 'electricity'},{'metal': 0.25, 'water': 0.2, 'electricity': 0.7})\""
      ]
     },
     "execution_count": 63,
     "metadata": {},
     "output_type": "execute_result"
    }
   ],
   "source": [
    "print(v_slinky)\n",
    "repr(v_slinky)"
   ]
  },
  {
   "cell_type": "code",
   "execution_count": 54,
   "metadata": {},
   "outputs": [
    {
     "name": "stdout",
     "output_type": "stream",
     "text": [
      "\n",
      " concrete electricity metal plastic water\n",
      "-----------------------------------------\n",
      "      312         356    51     215   373\n"
     ]
    }
   ],
   "source": [
    "print(240*v_gnome + 55*v_hoop + 150*v_slinky + 133*v_putty + 90*v_shooter)"
   ]
  },
  {
   "cell_type": "code",
   "execution_count": 55,
   "metadata": {},
   "outputs": [],
   "source": [
    "def lin_comb(vlist, clist):\n",
    "    return sum([coeff*v for (coeff, v) in zip(clist, vlist)])"
   ]
  },
  {
   "cell_type": "code",
   "execution_count": null,
   "metadata": {},
   "outputs": [],
   "source": []
  }
 ],
 "metadata": {
  "kernelspec": {
   "display_name": "Python 3",
   "language": "python",
   "name": "python3"
  },
  "language_info": {
   "codemirror_mode": {
    "name": "ipython",
    "version": 3
   },
   "file_extension": ".py",
   "mimetype": "text/x-python",
   "name": "python",
   "nbconvert_exporter": "python",
   "pygments_lexer": "ipython3",
   "version": "3.8.2"
  }
 },
 "nbformat": 4,
 "nbformat_minor": 4
}
