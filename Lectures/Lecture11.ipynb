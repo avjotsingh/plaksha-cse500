{
 "cells": [
  {
   "cell_type": "markdown",
   "metadata": {
    "slideshow": {
     "slide_type": "slide"
    }
   },
   "source": [
    "# Introduction to Computation and Python Programming\n",
    "\n",
    "## Lecture 11"
   ]
  },
  {
   "cell_type": "markdown",
   "metadata": {
    "slideshow": {
     "slide_type": "slide"
    }
   },
   "source": [
    "### Today\n",
    "----------\n",
    "\n",
    "- Knapsack and Graph Optimization Problems"
   ]
  },
  {
   "cell_type": "markdown",
   "metadata": {
    "slideshow": {
     "slide_type": "slide"
    }
   },
   "source": [
    "### Optimization problems\n",
    "\n",
    "- An optimization problem has two parts\n",
    "    * **Objective function** - that is being maximized or minimized\n",
    "    * **Set of constraints** - (possibly empty) that must be honored"
   ]
  },
  {
   "cell_type": "markdown",
   "metadata": {
    "slideshow": {
     "slide_type": "slide"
    }
   },
   "source": [
    "### Main lessons to learn here\n",
    "\n",
    "- Many problems of real importance can be formulated in a simple way that leads naturally to a computational problem\n",
    "- Reducing a seemingly new problem to an instance of a well-known problem allows one to use preexisting solutions\n",
    "- Knapsack problems and graph problems are classes of problems to which other problems can often be reduced\n",
    "- Exhaustive enumeration algorithms provide a simple, but often computationally intractable, way to search for optimal solutions\n",
    "- A greedy algorithm is often a practical approach to finding a pretty good, but not always optimal, solution to an optimization problem"
   ]
  },
  {
   "cell_type": "markdown",
   "metadata": {
    "slideshow": {
     "slide_type": "slide"
    }
   },
   "source": [
    "### Knapsack problems\n",
    "\n",
    "- A burglar with a knapsack that can hold at most 20 kgs breaks into a house\n",
    "\n",
    "| | Value | Weight | Value/Weight |\n",
    "|-|-------|--------|--------------|\n",
    "|Clock| 175 | 10 | 17.5 |\n",
    "|Painting| 90 | 9 | 10 |\n",
    "|Radio| 20 | 4 | 5 |\n",
    "|Vase| 50 | 2 | 25 |\n",
    "|Book| 10 | 1 | 10 |\n",
    "|Computer| 200 | 20 | 10 |\n",
    "\n",
    "- What does he take? What does he leave behind?\n"
   ]
  },
  {
   "cell_type": "markdown",
   "metadata": {
    "slideshow": {
     "slide_type": "slide"
    }
   },
   "source": [
    "### Greedy Algorithm\n",
    "\n",
    "- Best item first, next best next, and so on\n",
    "- But what is \"best\"?\n",
    "    * Most valuable? Least heavy? Highest value-weight ratio?\n",
    "- Notice that greedy-by-density gives the best result (255)\n",
    "- BUT there is no guaranee that greedy-by-density will give a better solution that greedy by weight or value\n",
    "- More generally, for the knapsack problem, greedy algorithm not guaranteed to be optimal\n",
    "\n",
    "##### Code"
   ]
  },
  {
   "cell_type": "markdown",
   "metadata": {
    "slideshow": {
     "slide_type": "slide"
    }
   },
   "source": [
    "### An optimal solution to the 0/1 Knapsack problem\n",
    "\n",
    "Formally, the **0/1 knapsack problem** is:\n",
    "- Each items is represented by a pair, $<value, weight>$\n",
    "- A knapsack can accomodate items with a total weight of no more than $w$\n",
    "- A vector, $I$, of length $n$, represents the set of available items. Each element of the vector is an item\n",
    "- A vector, $V$, of length $n$, is used to indicate whether or not each item is taken by the burglar. If $V[i] = 1$, item $I[i]$ is taken. If $V[i] = 0$, item $I[i]$ is not taken\n",
    "- Find a $V$ that maximizes\n",
    "\n",
    "\\begin{equation*}\n",
    "\\sum_{i=0}^{n-1} V[i] * I[i].value \\\\\n",
    "subject\\ to\\ the\\ constraint\\ that \\\\\n",
    "\\sum_{i=0}^{n-1} V[i] * I[i].weight <= w \\\\\n",
    "\\end{equation*}"
   ]
  },
  {
   "cell_type": "markdown",
   "metadata": {
    "slideshow": {
     "slide_type": "slide"
    }
   },
   "source": [
    "### Enumeration\n",
    "\n",
    "1. Enumerate all possible combinations of items. Power set of the set of items\n",
    "2. Remove all of the combinations whose weight exceeds the allowed weight\n",
    "3. From the remaining combinations choose any one whose value is the largest\n",
    "\n",
    "##### Code"
   ]
  },
  {
   "cell_type": "markdown",
   "metadata": {
    "slideshow": {
     "slide_type": "slide"
    }
   },
   "source": [
    "### Exhaustive Search is hopeless\n",
    "\n",
    "- $O(n * 2^n)$ complexity\n",
    "- Notice that enumeration gives us a better solution that greedy algorithms\n",
    "- Greedy algorithms make **locally optimal** choice but solution needs to be **globally optimal**"
   ]
  },
  {
   "cell_type": "markdown",
   "metadata": {
    "slideshow": {
     "slide_type": "slide"
    }
   },
   "source": [
    "### Graph Optimization Problems\n",
    "\n",
    "- Example: List of prices of all airline flights between each pair of cities given\n",
    "    * What is the smallest number of stops between some pair of cities?\n",
    "    * What is the least expensive airfare between some pair of cities?\n",
    "    * What is the least expensive airfare between some pair of cities involving no more than two stops?\n",
    "    * What is the least expensive way to visit some collection of cities?\n",
    "- Formally: A **graph** is a set of objects called **nodes** (or **vertices**) connected by a set of **edges** (or **arcs**). If the edges are unidirectional the graph is called a **directed graph** or **digraph**. \n",
    "- In a directed graph, if there is an edge from $n1$ to $n2$, we refer to $n1$ as the **source** or **parent node** and $n2$ as the **destination** or **child node**"
   ]
  },
  {
   "cell_type": "markdown",
   "metadata": {
    "slideshow": {
     "slide_type": "slide"
    }
   },
   "source": [
    "### Graph Data Structures\n",
    "\n",
    "##### Code\n",
    "\n",
    "- Digraph is commonly represented using an $n x n$ **adjacency matrix**, where n is the number of nodes in the graph. Each cell of the matrix contains information (e.g. weights) about the edges connecting the pair of nodes $<i, j>$. \n",
    "- Another representation (shown in code) is an **adjacency list**\n",
    "- Class ```Graph``` is a sublcass of ```Digraph```\n",
    "    * overrides ```addEdge```\n",
    "    * why ```Graph``` is a subclass of ```Digraph``` and not the other way around - **substitution principle** - client code that works correctly using an instance of the supertype should also work with an instance of the subtype when substituted for the instance of the supertype"
   ]
  },
  {
   "cell_type": "markdown",
   "metadata": {
    "slideshow": {
     "slide_type": "slide"
    }
   },
   "source": [
    "### Some Classic Graph-Theoretic Problems\n",
    "\n",
    "- **Shortest path**: For some pair of nodes $n1$ and $n2$, find the shortest sequence of edges $<s_n, d_n>$ (source and destination node), such that\n",
    "    * The source node in the first edge is $n1$\n",
    "    * The destination node of the last edge is $n2$\n",
    "    * For all edges $e1$ and $e2$ in the sequence, if $e2$ follows $e1$ in the sequence, the source node of $e2$ is the destination node of $e1$\n",
    "    \n",
    "- **Shortest weighted path**: Like the shortest path, except instead of choosing the shortest sequence of edges that connects two nodes, we define some function on the weights of edges in the sequence (e.g. their sum) and minimize that value\n",
    "\n",
    "- **Maximum clique**: A **clique** is a set of nodes such that there is an edge between each pair of nodes in the set. A maximum clique is a clique of the largest size in a graph\n",
    "\n",
    "- **Min cut**: Given two sets of nodes in a graph, a **cut** is a set of edges whose removal eliminates all paths from each node in one set to each node in the other. The minimum cut is the smallest set of edges whose removal accomplishes this\n"
   ]
  },
  {
   "cell_type": "markdown",
   "metadata": {
    "slideshow": {
     "slide_type": "slide"
    }
   },
   "source": [
    "### Shortest Path: Depth-First Search (DFS)\n",
    "\n",
    "- Choose one child of the start node\n",
    "- Choose one child of that node and so on, going deeper and deeper\n",
    "- Until you reach the goal node or a node with no children\n",
    "- **Backtrack**, returning to the most recent node with children that you have not yet visited\n",
    "- When all paths have been explored, choose the shortest path\n",
    "\n",
    "##### Code"
   ]
  },
  {
   "cell_type": "markdown",
   "metadata": {
    "slideshow": {
     "slide_type": "slide"
    }
   },
   "source": [
    "### Shortest Path: Breadth-First Search (BFS)\n",
    "\n",
    "- Visit all children of the start node\n",
    "- If none of those is the end node, visit all children of each of those ndoes. And so on\n",
    "- Unlike depth-first serach, which is usually implemented recursively, breadth-first search is usually implemented iteratively\n",
    "- Since it generates paths in ascending order of length, the first path found with the goal as its last node is guaranteed to have a minimum number of edges\n",
    "\n",
    "##### Code"
   ]
  }
 ],
 "metadata": {
  "celltoolbar": "Slideshow",
  "kernelspec": {
   "display_name": "Python 3",
   "language": "python",
   "name": "python3"
  },
  "language_info": {
   "codemirror_mode": {
    "name": "ipython",
    "version": 3
   },
   "file_extension": ".py",
   "mimetype": "text/x-python",
   "name": "python",
   "nbconvert_exporter": "python",
   "pygments_lexer": "ipython3",
   "version": "3.8.2"
  }
 },
 "nbformat": 4,
 "nbformat_minor": 2
}
