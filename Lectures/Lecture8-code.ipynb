{
 "cells": [
  {
   "cell_type": "markdown",
   "metadata": {},
   "source": [
    "### Merge Sort"
   ]
  },
  {
   "cell_type": "code",
   "execution_count": null,
   "metadata": {},
   "outputs": [],
   "source": [
    "def merge(left, right, compare):\n",
    "    \"\"\"Assumes left and right are sorted lists and\n",
    "         compare defines an ordering on the elements.\n",
    "       Returns a new sorted (by compare) list containing the\n",
    "         same elements as (left + right) would contain.\"\"\"\n",
    "    \n",
    "    result = []\n",
    "    i,j = 0, 0\n",
    "    while i < len(left) and j < len(right):\n",
    "        if compare(left[i], right[j]):\n",
    "            result.append(left[i])\n",
    "            i += 1\n",
    "        else:\n",
    "            result.append(right[j])\n",
    "            j += 1\n",
    "    while (i < len(left)):\n",
    "        result.append(left[i])\n",
    "        i += 1\n",
    "    while (j < len(right)):\n",
    "        result.append(right[j])\n",
    "        j += 1\n",
    "    return result\n",
    "\n",
    "def mergeSort(L, compare = lambda x, y: x < y):\n",
    "    \"\"\"Assumes L is a list, compare defines an ordering\n",
    "         on elements of L\n",
    "       Returns a new sorted list with the same elements as L\"\"\"\n",
    "    if len(L) < 2:\n",
    "        return L[:]\n",
    "    else:\n",
    "        middle = len(L)//2\n",
    "        left = mergeSort(L[:middle], compare)\n",
    "        right = mergeSort(L[middle:], compare)\n",
    "        return merge(left, right, compare)"
   ]
  },
  {
   "cell_type": "code",
   "execution_count": null,
   "metadata": {},
   "outputs": [],
   "source": [
    "L = [2, 1, 4, 5, 3]\n",
    "print(mergeSort(L), mergeSort(L, lambda x, y: x > y))"
   ]
  },
  {
   "cell_type": "code",
   "execution_count": null,
   "metadata": {},
   "outputs": [],
   "source": [
    "def cube(n):\n",
    "    return n*n*n\n",
    "\n",
    "g = lambda n: n*n*n\n",
    "\n",
    "cube(7)\n",
    "g(7)\n",
    "\n"
   ]
  },
  {
   "cell_type": "code",
   "execution_count": null,
   "metadata": {},
   "outputs": [],
   "source": [
    "l = [2, 5,75, 33, 12, 42, 11, 1]\n",
    "\n",
    "list(map(lambda x: x**2, l))\n",
    "\n",
    "list(filter(lambda x: x%2 == 0, l))"
   ]
  },
  {
   "cell_type": "code",
   "execution_count": null,
   "metadata": {},
   "outputs": [],
   "source": [
    "# Sorting in Python\n",
    "\n",
    "L = [3, 5, 2]\n",
    "D = {'a': 12, 'c':5, 'b':'dog'}\n"
   ]
  },
  {
   "cell_type": "code",
   "execution_count": null,
   "metadata": {},
   "outputs": [],
   "source": [
    "print(sorted(L))"
   ]
  },
  {
   "cell_type": "code",
   "execution_count": null,
   "metadata": {},
   "outputs": [],
   "source": [
    "print(L)"
   ]
  },
  {
   "cell_type": "code",
   "execution_count": null,
   "metadata": {},
   "outputs": [],
   "source": [
    "L.sort()"
   ]
  },
  {
   "cell_type": "code",
   "execution_count": null,
   "metadata": {},
   "outputs": [],
   "source": [
    "print(L)"
   ]
  },
  {
   "cell_type": "code",
   "execution_count": null,
   "metadata": {},
   "outputs": [],
   "source": [
    "print(sorted(D))"
   ]
  },
  {
   "cell_type": "code",
   "execution_count": null,
   "metadata": {},
   "outputs": [],
   "source": [
    "D.sort()"
   ]
  },
  {
   "cell_type": "code",
   "execution_count": null,
   "metadata": {},
   "outputs": [],
   "source": [
    "### Both list.sort and sorted functions can have two additional parameters key and compare\n",
    "L = [[1,2,3], (3,2,1,0), 'abc']\n",
    "print(sorted(L, key = len, reverse = True))"
   ]
  },
  {
   "cell_type": "code",
   "execution_count": null,
   "metadata": {},
   "outputs": [],
   "source": [
    "# Notice that both provide *stable sort* - if equal, relative ordering is preserved"
   ]
  },
  {
   "cell_type": "markdown",
   "metadata": {},
   "source": [
    "## Hashing"
   ]
  },
  {
   "cell_type": "code",
   "execution_count": 1,
   "metadata": {},
   "outputs": [],
   "source": [
    "class intDict(object):\n",
    "    \"\"\"A dictionary with integer keys\"\"\"\n",
    "    \n",
    "    def __init__(self, numBuckets):\n",
    "        \"\"\"Create an empty dictionary\"\"\"\n",
    "        self.buckets = []\n",
    "        self.numBuckets = numBuckets\n",
    "        for i in range(numBuckets):\n",
    "            self.buckets.append([])\n",
    "            \n",
    "    def addEntry(self, key, dictVal):\n",
    "        \"\"\"Assumes key an int. Adds an entry.\"\"\"\n",
    "        hashBucket = self.buckets[key%self.numBuckets]\n",
    "        for i in range(len(hashBucket)):\n",
    "            if hashBucket[i][0] == key:\n",
    "                hashBucket[i] = (key, dictVal)\n",
    "                return\n",
    "        hashBucket.append((key, dictVal))\n",
    "        \n",
    "    def getValue(self, key):\n",
    "        \"\"\"Assumes key an int.\n",
    "           Returns value associated with key.\"\"\"\n",
    "        hashBucket = self.buckets[key%self.numBuckets]\n",
    "        for e in hashBucket:\n",
    "            if e[0] == key:\n",
    "                return e[1]\n",
    "        return None\n",
    "    \n",
    "    def __str__(self):\n",
    "        result = '{'\n",
    "        for b in self.buckets:\n",
    "            for e in b:\n",
    "                result = result + str(e[0]) + ':' + str(e[1]) + ','\n",
    "        return result[:-1] + '}'\n",
    "    \n"
   ]
  },
  {
   "cell_type": "code",
   "execution_count": 2,
   "metadata": {},
   "outputs": [
    {
     "name": "stdout",
     "output_type": "stream",
     "text": [
      "The value of the intDict is:\n",
      "{68426:1,89982:3,81652:7,61933:11,18940:13,67187:4,8554:5,22750:2,39189:18,26661:8,92179:16,58386:15,9648:0,30456:9,757:12,45317:17,43448:6,16606:19,89384:10,49536:14}\n",
      "\n",
      " The buckets are:\n",
      "   []\n",
      "   [(68426, 1), (89982, 3), (81652, 7)]\n",
      "   [(61933, 11), (18940, 13)]\n",
      "   [(67187, 4), (8554, 5)]\n",
      "   [(22750, 2), (39189, 18)]\n",
      "   [(26661, 8), (92179, 16)]\n",
      "   []\n",
      "   []\n",
      "   [(58386, 15)]\n",
      "   [(9648, 0), (30456, 9), (757, 12)]\n",
      "   []\n",
      "   []\n",
      "   [(45317, 17)]\n",
      "   [(43448, 6)]\n",
      "   [(16606, 19)]\n",
      "   [(89384, 10), (49536, 14)]\n",
      "   []\n"
     ]
    }
   ],
   "source": [
    "# Let us use it\n",
    "\n",
    "import random\n",
    "D = intDict(17)\n",
    "for i in range(20):\n",
    "    #choose a random int in the range of 0 to 10**5 - 1\n",
    "    key = random.choice(range(10**5))\n",
    "    D.addEntry(key, i)\n",
    "print('The value of the intDict is:')\n",
    "print(D)\n",
    "print('\\n', 'The buckets are:')\n",
    "for hashBucket in D.buckets:   #violates abstraction barrier\n",
    "    print('  ', hashBucket)"
   ]
  },
  {
   "cell_type": "code",
   "execution_count": null,
   "metadata": {},
   "outputs": [],
   "source": []
  }
 ],
 "metadata": {
  "kernelspec": {
   "display_name": "Python 3",
   "language": "python",
   "name": "python3"
  },
  "language_info": {
   "codemirror_mode": {
    "name": "ipython",
    "version": 3
   },
   "file_extension": ".py",
   "mimetype": "text/x-python",
   "name": "python",
   "nbconvert_exporter": "python",
   "pygments_lexer": "ipython3",
   "version": "3.8.2"
  }
 },
 "nbformat": 4,
 "nbformat_minor": 2
}
