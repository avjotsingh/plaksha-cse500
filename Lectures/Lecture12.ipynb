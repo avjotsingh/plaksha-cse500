{
 "cells": [
  {
   "cell_type": "markdown",
   "metadata": {
    "slideshow": {
     "slide_type": "slide"
    }
   },
   "source": [
    "# Introduction to Computation and Python Programming\n",
    "\n",
    "## Lecture 12"
   ]
  },
  {
   "cell_type": "markdown",
   "metadata": {
    "slideshow": {
     "slide_type": "slide"
    }
   },
   "source": [
    "### Today\n",
    "----------\n",
    "\n",
    "- Dynamic Programming"
   ]
  },
  {
   "cell_type": "markdown",
   "metadata": {
    "slideshow": {
     "slide_type": "slide"
    }
   },
   "source": [
    "### Dynamic Programming\n",
    "\n",
    "- A technique that can be applied to problems if they exhibit:\n",
    "    * **Optimal substructure**: a globally optimal solution can be found by combining optimal solutions to local subproblems\n",
    "    * **Overlapping subproblems**: if an optimal solution involves solving the same problem multiple times"
   ]
  },
  {
   "cell_type": "markdown",
   "metadata": {
    "slideshow": {
     "slide_type": "slide"
    }
   },
   "source": [
    "### Fibonacci Sequences, Revisited\n",
    "\n",
    "Remember:\n",
    "```\n",
    "def fib(n):\n",
    "    \"\"\"Asssumes n is an int >= 0\n",
    "       Returns Fibonacci of n\"\"\"\n",
    "    if n == 0 or n == 1:\n",
    "        return 1\n",
    "    else:\n",
    "        return fib(n-1) + fib(n-2)\n",
    "```\n",
    "\n",
    "- This is terribly inefficient. The complexity is hard to derive but it is roughly $O(fib(n))$\n",
    "- E.g. ```fib(120)``` is 8,670,007,398,507,948,658,051,921\n",
    "- If each recursive call took a nanosecond, ```fib(120)``` would  take about 250,000 years to finish"
   ]
  },
  {
   "cell_type": "markdown",
   "metadata": {
    "slideshow": {
     "slide_type": "slide"
    }
   },
   "source": [
    "![image](diagrams/fib_recursive.png)"
   ]
  },
  {
   "cell_type": "markdown",
   "metadata": {
    "slideshow": {
     "slide_type": "slide"
    }
   },
   "source": [
    "### Memoization\n",
    "\n",
    "- The same call is done multiple times in ```fib(n)``` - do it only once and look it up\n",
    "- **Memoization** - remember past work. Key idea behind dynamic programming\n",
    "\n",
    "##### Code"
   ]
  },
  {
   "cell_type": "markdown",
   "metadata": {
    "slideshow": {
     "slide_type": "slide"
    }
   },
   "source": [
    "### Dynamic Programming and the 0/1 Knapsack Problem\n",
    "\n",
    "- Remember the enumeration solution for 0/1 Knapsack Problem - exponential in size of the input\n",
    "- Let us explore the space of possible solutions by constructing a **rooted binary tree**:\n",
    "    * One node with no parents - **root**\n",
    "    * Each non-root node has exactly one parent\n",
    "    * Each node has at most two children. A childless node is called a **leaf**\n",
    "- Structure of node for 0/1 knapsack problem - quadruple\n",
    "    1. A set of items to be taken\n",
    "    2. List of items for which decision has not been made\n",
    "    3. Total value of items in the set of items to be taken\n",
    "    4. Remaining space in knapsack\n",
    "- Construction:\n",
    "    * Build top-down starting at node\n",
    "    * One element is selected from still-to-be-considered items. If there is room for that item in the knapsack, a node is constructed that reflects the consequence of choosing to take that item. By convention, we draw that node as the left child\n",
    "    * The right child shows the consequences of choosing not to take that item\n",
    "    * Apply process recursively until either knapsack is full or there are no more items to consider\n",
    "- Above is an example of a **decision tree**"
   ]
  },
  {
   "cell_type": "markdown",
   "metadata": {
    "slideshow": {
     "slide_type": "slide"
    }
   },
   "source": [
    "|Name|Value|Weight|\n",
    "|---|---|---|\n",
    "|a|6|3|\n",
    "|b|7|3|\n",
    "|c|8|2|\n",
    "|d|9|5|\n"
   ]
  },
  {
   "cell_type": "markdown",
   "metadata": {
    "slideshow": {
     "slide_type": "slide"
    }
   },
   "source": [
    "#### Decision tree - max weight in knapsack = 5\n",
    "\n",
    "![image](diagrams/knapsack_dp.png)\n",
    "\n",
    "##### Code"
   ]
  },
  {
   "cell_type": "markdown",
   "metadata": {
    "slideshow": {
     "slide_type": "slide"
    }
   },
   "source": [
    "### DP analysis\n",
    "\n",
    "- Size of tree exploring solution? At each level we are deciding to keep one tiem - so maximum depth of tree is ```len(items)```. Each level has $2^n$ nodes and so the tree has $2^{len(items)}$ nodes!\n",
    "- Does this program exhibit **optimal substructure** and **overlapping subproblems**?"
   ]
  },
  {
   "cell_type": "markdown",
   "metadata": {
    "slideshow": {
     "slide_type": "slide"
    }
   },
   "source": [
    "### DP analysis\n",
    "\n",
    "- Optimal substructure - each parent node combines solutions reached by children to derive an optimal solution for the subtree rooted at that parent\n",
    "- Overlapping subproblems - Each node is making the decision \"what is the optimal set of items to take from those left to consider, given the remaining available weight\"\n",
    "    * Consider nodes 2 and 7 in the tree - they are actually solving the same problem\n",
    "- Memoize solutions to subproblems that have already been solved\n",
    "    * Dictionary with key constructed from the tuple (len(toConsider), avail). Why is len(toConsider) sufficient and we don't need to list the items\n",
    "\n",
    "\n",
    "##### Code"
   ]
  },
  {
   "cell_type": "markdown",
   "metadata": {
    "slideshow": {
     "slide_type": "slide"
    }
   },
   "source": [
    "### Tabulation\n",
    "\n",
    "- Tabulation is a distinct DP approach from memoization\n",
    "- Tabulation completely removes recursion - stack overflow is completely eliminated\n",
    "- Basic idea: Solve all sub-problems and store their results in a matrix\n",
    "    * These results are then used to solve larger problems\n",
    "- Hence referred to as a bottom-up approach"
   ]
  },
  {
   "cell_type": "markdown",
   "metadata": {},
   "source": [
    "### Idea for solving Knapsack as defined above\n",
    "\n",
    "- Tabulate and store results in matrix; Start from smallest problem and go up\n",
    "\n",
    "|Weight$\\rightarrow$<br/>Item$\\downarrow$|0|1|2|3|4|5|\n",
    "|-|-|-|-|-|-|-|\n",
    "|**0**|0|0|0|0|0|0|\n",
    "|**1**|0||||||\n",
    "|**2**|0||||||\n",
    "|**3**|0||||||\n",
    "|**4**|0||||||\n",
    "\n",
    " \n",
    " Fill above using:\n",
    " \n",
    " \\begin{equation*}\n",
    " F(i,w) = \\begin{cases}\n",
    "         F(i-1,w), & \\text{if w_i > w} \\\\\n",
    "         max{F(i-1,w), (F(i-1,w-w_i)+v_i)}, & \\text{if w_i <= w}\\\\\n",
    "          \\end{cases}\n",
    " \\end{equation*}\n",
    "\n",
    "\n"
   ]
  },
  {
   "cell_type": "code",
   "execution_count": null,
   "metadata": {},
   "outputs": [],
   "source": []
  }
 ],
 "metadata": {
  "celltoolbar": "Slideshow",
  "kernelspec": {
   "display_name": "Python 3",
   "language": "python",
   "name": "python3"
  },
  "language_info": {
   "codemirror_mode": {
    "name": "ipython",
    "version": 3
   },
   "file_extension": ".py",
   "mimetype": "text/x-python",
   "name": "python",
   "nbconvert_exporter": "python",
   "pygments_lexer": "ipython3",
   "version": "3.8.2"
  }
 },
 "nbformat": 4,
 "nbformat_minor": 2
}
