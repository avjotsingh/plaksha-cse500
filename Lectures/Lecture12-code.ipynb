{
 "cells": [
  {
   "cell_type": "code",
   "execution_count": 1,
   "metadata": {},
   "outputs": [],
   "source": [
    "def fastFib(n, memo = None):\n",
    "    \"\"\"Assumes n is an int >= 0, memo used only by recursive calls\n",
    "       Returns Fibonacci of n\"\"\"\n",
    "    if memo == None:\n",
    "        memo = {}\n",
    "    if n == 0 or n == 1:\n",
    "        return 1\n",
    "    try:\n",
    "        return memo[n]\n",
    "    except KeyError:\n",
    "        result = fastFib(n-1, memo) + fastFib(n-2, memo)\n",
    "        memo[n] = result\n",
    "        return result\n"
   ]
  },
  {
   "cell_type": "code",
   "execution_count": 2,
   "metadata": {},
   "outputs": [
    {
     "data": {
      "text/plain": [
       "8670007398507948658051921"
      ]
     },
     "execution_count": 2,
     "metadata": {},
     "output_type": "execute_result"
    }
   ],
   "source": [
    "fastFib(120)"
   ]
  },
  {
   "cell_type": "markdown",
   "metadata": {},
   "source": [
    "#### 0/1 Knapsack"
   ]
  },
  {
   "cell_type": "code",
   "execution_count": 4,
   "metadata": {},
   "outputs": [],
   "source": [
    "class Item(object):\n",
    "    def __init__(self, n, v, w):\n",
    "        self.name = n\n",
    "        self.value = v\n",
    "        self.weight = w\n",
    "    def getName(self):\n",
    "        return self.name\n",
    "    def getValue(self):\n",
    "        return self.value\n",
    "    def getWeight(self):\n",
    "        return self.weight\n",
    "    def __str__(self):\n",
    "        result = '<' + self.name + ', ' + str(self.value)\\\n",
    "                 + ', ' + str(self.weight) + '>'\n",
    "        return result\n",
    "def value(item):\n",
    "    return item.getValue()\n",
    "\n",
    "def weightInverse(item):\n",
    "    return 1.0/item.getWeight()\n",
    "\n",
    "def density(item):\n",
    "    return item.getValue()/item.getWeight()"
   ]
  },
  {
   "cell_type": "code",
   "execution_count": 5,
   "metadata": {},
   "outputs": [],
   "source": [
    "def maxVal(toConsider, avail):\n",
    "    \"\"\"Assumes toConsider a list of items, avail a weight\n",
    "       Returns a tuple of the total value of a solution to the\n",
    "         0/1 knapsack problem and the items of that solution\"\"\"\n",
    "    if toConsider == [] or avail == 0:\n",
    "        result = (0, ())\n",
    "    elif toConsider[0].getWeight() > avail:\n",
    "        #Explore right branch only\n",
    "        result = maxVal(toConsider[1:], avail)\n",
    "    else:\n",
    "        nextItem = toConsider[0]\n",
    "        #Explore left branch\n",
    "        withVal, withToTake = maxVal(toConsider[1:],\n",
    "                                     avail - nextItem.getWeight())\n",
    "        withVal += nextItem.getValue()\n",
    "        #Explore right branch\n",
    "        withoutVal, withoutToTake = maxVal(toConsider[1:], avail)\n",
    "        #Choose better branch\n",
    "        if withVal > withoutVal:\n",
    "            result = (withVal, withToTake + (nextItem,))\n",
    "        else:\n",
    "            result = (withoutVal, withoutToTake)\n",
    "    return result"
   ]
  },
  {
   "cell_type": "code",
   "execution_count": 7,
   "metadata": {},
   "outputs": [],
   "source": [
    "def smallTest():\n",
    "    names = ['a', 'b', 'c', 'd']\n",
    "    vals = [6, 7, 8, 9]\n",
    "    weights = [3, 3, 2, 5]\n",
    "    Items = []\n",
    "    for i in range(len(vals)):\n",
    "        Items.append(Item(names[i], vals[i], weights[i]))\n",
    "    val, taken = maxVal(Items, 5)\n",
    "    for item in taken:\n",
    "        print(item)\n",
    "    print('Total value of items taken =', val)\n",
    "\n",
    "import random\n",
    "\n",
    "def buildManyItems(numItems, maxVal, maxWeight):\n",
    "    items = []\n",
    "    for i in range(numItems):\n",
    "        items.append(Item(str(i),\n",
    "                          random.randint(1, maxVal),\n",
    "                          random.randint(1, maxWeight)))\n",
    "    return items\n",
    "\n",
    "def bigTest(numItems):\n",
    "    items = buildManyItems(numItems, 10, 10)\n",
    "    val, taken = maxVal(items, 40)\n",
    "    print('Items Taken')\n",
    "    for item in taken:\n",
    "        print(item)\n",
    "    print('Total value of items taken =', val)"
   ]
  },
  {
   "cell_type": "code",
   "execution_count": 8,
   "metadata": {},
   "outputs": [
    {
     "name": "stdout",
     "output_type": "stream",
     "text": [
      "<c, 8, 2>\n",
      "<b, 7, 3>\n",
      "Total value of items taken = 15\n"
     ]
    }
   ],
   "source": [
    "smallTest()"
   ]
  },
  {
   "cell_type": "code",
   "execution_count": 9,
   "metadata": {},
   "outputs": [
    {
     "name": "stdout",
     "output_type": "stream",
     "text": [
      "Items Taken\n",
      "<29, 10, 3>\n",
      "<28, 6, 8>\n",
      "<26, 9, 3>\n",
      "<25, 5, 4>\n",
      "<21, 10, 5>\n",
      "<17, 7, 6>\n",
      "<12, 9, 4>\n",
      "<10, 7, 1>\n",
      "<8, 8, 3>\n",
      "<3, 4, 2>\n",
      "Total value of items taken = 75\n"
     ]
    }
   ],
   "source": [
    "bigTest(30)"
   ]
  },
  {
   "cell_type": "code",
   "execution_count": 10,
   "metadata": {},
   "outputs": [],
   "source": [
    "def fastMaxVal(toConsider, avail, memo = {}):\n",
    "    \"\"\"Assumes toConsider a list of items, avail a weight\n",
    "         memo supplied by recursive calls\n",
    "       Returns a tuple of the total value of a solution to the\n",
    "         0/1 knapsack problem and the items of that solution\"\"\"\n",
    "    if (len(toConsider), avail) in memo:\n",
    "        result = memo[(len(toConsider), avail)]\n",
    "    elif toConsider == [] or avail == 0:\n",
    "        result = (0, ())\n",
    "    elif toConsider[0].getWeight() > avail:\n",
    "        #Explore right branch only\n",
    "        result = fastMaxVal(toConsider[1:], avail, memo)\n",
    "    else:\n",
    "        nextItem = toConsider[0]\n",
    "        #Explore left branch\n",
    "        withVal, withToTake =\\\n",
    "                 fastMaxVal(toConsider[1:],\n",
    "                            avail - nextItem.getWeight(), memo)\n",
    "        withVal += nextItem.getValue()\n",
    "        #Explore right branch\n",
    "        withoutVal, withoutToTake = fastMaxVal(toConsider[1:],\n",
    "                                                avail, memo)\n",
    "        #Choose better branch\n",
    "        if withVal > withoutVal:\n",
    "            result = (withVal, withToTake + (nextItem,))\n",
    "        else:\n",
    "            result = (withoutVal, withoutToTake)\n",
    "    memo[(len(toConsider), avail)] = result\n",
    "    return result"
   ]
  },
  {
   "cell_type": "code",
   "execution_count": 11,
   "metadata": {},
   "outputs": [],
   "source": [
    "def bigTest(numItems):\n",
    "    items = buildManyItems(numItems, 10, 10)\n",
    "    val, taken = fastMaxVal(items, 40)\n",
    "    print('Items Taken')\n",
    "    for item in taken:\n",
    "        print(item)\n",
    "    print('Total value of items taken =', val)"
   ]
  },
  {
   "cell_type": "code",
   "execution_count": 14,
   "metadata": {},
   "outputs": [
    {
     "name": "stdout",
     "output_type": "stream",
     "text": [
      "Items Taken\n",
      "<36, 7, 2>\n",
      "<33, 9, 6>\n",
      "<30, 8, 1>\n",
      "<28, 5, 3>\n",
      "<26, 8, 3>\n",
      "<25, 10, 5>\n",
      "<24, 9, 1>\n",
      "<23, 10, 3>\n",
      "<22, 7, 1>\n",
      "<19, 6, 4>\n",
      "<15, 3, 2>\n",
      "<5, 6, 2>\n",
      "<3, 7, 3>\n",
      "<2, 9, 2>\n",
      "<0, 5, 2>\n",
      "Total value of items taken = 109\n"
     ]
    }
   ],
   "source": [
    "bigTest(40)"
   ]
  },
  {
   "cell_type": "code",
   "execution_count": null,
   "metadata": {},
   "outputs": [],
   "source": []
  }
 ],
 "metadata": {
  "kernelspec": {
   "display_name": "Python 3",
   "language": "python",
   "name": "python3"
  },
  "language_info": {
   "codemirror_mode": {
    "name": "ipython",
    "version": 3
   },
   "file_extension": ".py",
   "mimetype": "text/x-python",
   "name": "python",
   "nbconvert_exporter": "python",
   "pygments_lexer": "ipython3",
   "version": "3.8.2"
  }
 },
 "nbformat": 4,
 "nbformat_minor": 4
}
